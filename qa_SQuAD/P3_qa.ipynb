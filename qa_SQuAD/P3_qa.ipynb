{
 "metadata": {
  "language_info": {
   "codemirror_mode": {
    "name": "ipython",
    "version": 3
   },
   "file_extension": ".py",
   "mimetype": "text/x-python",
   "name": "python",
   "nbconvert_exporter": "python",
   "pygments_lexer": "ipython3",
   "version": "3.7.4-final"
  },
  "orig_nbformat": 2,
  "kernelspec": {
   "name": "python3",
   "display_name": "Python 3"
  }
 },
 "nbformat": 4,
 "nbformat_minor": 2,
 "cells": [
  {
   "source": [
    "%reload_ext autoreload\n",
    "%autoreload 2\n",
    "%matplotlib inline\n",
    "\n",
    "import torch \n",
    "import numpy as np \n",
    "import pandas as pd \n",
    "import seaborn as sns \n",
    "import torch.nn.functional as F \n",
    "from transformers import BertTokenizer, BertForQuestionAnswering\n",
    "\n",
    "from settings import *\n",
    "\n",
    "device = torch.device('cuda' if torch.cuda.is_available() else 'cpu')"
   ],
   "cell_type": "code",
   "metadata": {},
   "execution_count": 17,
   "outputs": []
  },
  {
   "cell_type": "code",
   "execution_count": 2,
   "metadata": {},
   "outputs": [],
   "source": [
    "tokenizer = BertTokenizer.from_pretrained(BERT_MODEL)\n",
    "model = BertForQuestionAnswering.from_pretrained(BERT_MODEL).to(device)"
   ]
  },
  {
   "cell_type": "code",
   "execution_count": 4,
   "metadata": {},
   "outputs": [
    {
     "output_type": "execute_result",
     "data": {
      "text/plain": [
       "                                            question  \\\n",
       "0  Who is a notable exponent of pluralistic ideal...   \n",
       "1  Who is a notable exponent of pluralistic ideal...   \n",
       "2  Who is a notable exponent of pluralistic ideal...   \n",
       "3  Who is a notable exponent of pluralistic ideal...   \n",
       "4  Who is a notable exponent of pluralistic ideal...   \n",
       "5  Who is a notable exponent of pluralistic ideal...   \n",
       "6  Who is a notable exponent of pluralistic ideal...   \n",
       "7  Who is a notable exponent of pluralistic ideal...   \n",
       "8  Who is a notable exponent of pluralistic ideal...   \n",
       "9  Who is a notable exponent of pluralistic ideal...   \n",
       "\n",
       "                                             context  \n",
       "0  Pluralistic idealism such as that of Gottfried...  \n",
       "1  The 2nd edition (1787) contained a Refutation ...  \n",
       "2  In philosophy, idealism is the group of philos...  \n",
       "3  Absolute idealism is G. W. F. Hegel's account ...  \n",
       "4  Kant argued against all three forms of materia...  \n",
       "5  Idealism is a term with several related meanin...  \n",
       "6  Subjective idealists like George Berkeley are ...  \n",
       "7  Any philosophy that assigns crucial importance...  \n",
       "8  Plato's theory of forms or \"ideas\" describes i...  \n",
       "9  Beginning with Immanuel Kant, German idealists...  "
      ],
      "text/html": "<div>\n<style scoped>\n    .dataframe tbody tr th:only-of-type {\n        vertical-align: middle;\n    }\n\n    .dataframe tbody tr th {\n        vertical-align: top;\n    }\n\n    .dataframe thead th {\n        text-align: right;\n    }\n</style>\n<table border=\"1\" class=\"dataframe\">\n  <thead>\n    <tr style=\"text-align: right;\">\n      <th></th>\n      <th>question</th>\n      <th>context</th>\n    </tr>\n  </thead>\n  <tbody>\n    <tr>\n      <td>0</td>\n      <td>Who is a notable exponent of pluralistic ideal...</td>\n      <td>Pluralistic idealism such as that of Gottfried...</td>\n    </tr>\n    <tr>\n      <td>1</td>\n      <td>Who is a notable exponent of pluralistic ideal...</td>\n      <td>The 2nd edition (1787) contained a Refutation ...</td>\n    </tr>\n    <tr>\n      <td>2</td>\n      <td>Who is a notable exponent of pluralistic ideal...</td>\n      <td>In philosophy, idealism is the group of philos...</td>\n    </tr>\n    <tr>\n      <td>3</td>\n      <td>Who is a notable exponent of pluralistic ideal...</td>\n      <td>Absolute idealism is G. W. F. Hegel's account ...</td>\n    </tr>\n    <tr>\n      <td>4</td>\n      <td>Who is a notable exponent of pluralistic ideal...</td>\n      <td>Kant argued against all three forms of materia...</td>\n    </tr>\n    <tr>\n      <td>5</td>\n      <td>Who is a notable exponent of pluralistic ideal...</td>\n      <td>Idealism is a term with several related meanin...</td>\n    </tr>\n    <tr>\n      <td>6</td>\n      <td>Who is a notable exponent of pluralistic ideal...</td>\n      <td>Subjective idealists like George Berkeley are ...</td>\n    </tr>\n    <tr>\n      <td>7</td>\n      <td>Who is a notable exponent of pluralistic ideal...</td>\n      <td>Any philosophy that assigns crucial importance...</td>\n    </tr>\n    <tr>\n      <td>8</td>\n      <td>Who is a notable exponent of pluralistic ideal...</td>\n      <td>Plato's theory of forms or \"ideas\" describes i...</td>\n    </tr>\n    <tr>\n      <td>9</td>\n      <td>Who is a notable exponent of pluralistic ideal...</td>\n      <td>Beginning with Immanuel Kant, German idealists...</td>\n    </tr>\n  </tbody>\n</table>\n</div>"
     },
     "metadata": {},
     "execution_count": 4
    }
   ],
   "source": [
    "question_df = pd.read_feather(QC_CHCHE)\n",
    "question_df"
   ]
  },
  {
   "cell_type": "code",
   "execution_count": 5,
   "metadata": {},
   "outputs": [
    {
     "output_type": "execute_result",
     "data": {
      "text/plain": [
       "('Who is a notable exponent of pluralistic idealism?',\n",
       " 'The 2nd edition (1787) contained a Refutation of Idealism to distinguish his transcendental idealism from Descartes\\'s Sceptical Idealism and Berkeley\\'s anti-realist strain of Subjective Idealism. The section Paralogisms of Pure Reason is an implicit critique of Descartes\\' idealism. Kant says that it is not possible to infer the \\'I\\' as an object (Descartes\\' cogito ergo sum) purely from \"the spontaneity of thought\". Kant focused on ideas drawn from British philosophers such as Locke, Berkeley and Hume but distinguished his transcendental or critical idealism from previous varieties;')"
      ]
     },
     "metadata": {},
     "execution_count": 5
    }
   ],
   "source": [
    "question, context = question_df[['question', 'context']].iloc[1]\n",
    "question, context"
   ]
  },
  {
   "cell_type": "code",
   "execution_count": 6,
   "metadata": {},
   "outputs": [
    {
     "output_type": "execute_result",
     "data": {
      "text/plain": [
       "([101, 2040, 2003, 1037, 3862, 16258, 21576, 1997, 13994, 6553],\n",
       " [0, 0, 0, 0, 0, 0, 0, 0, 0, 0, 0, 0, 0, 0, 1, 1, 1, 1, 1, 1])"
      ]
     },
     "metadata": {},
     "execution_count": 6
    }
   ],
   "source": [
    "# Example test\n",
    "input_text = \"[CLS] \" + question + \" [SEP] \" + context + \" [SEP]\"\n",
    "input_ids = tokenizer.encode(input_text, add_special_tokens=False)\n",
    "token_type_ids = [0 if i<=input_ids.index(102) else 1 for i in range(len(input_ids))]\n",
    "input_ids[:10], token_type_ids[:20]"
   ]
  },
  {
   "cell_type": "code",
   "execution_count": 7,
   "metadata": {},
   "outputs": [
    {
     "output_type": "stream",
     "name": "stdout",
     "text": [
      "kant\nscores: start=1.1468594074249268, end=1.4601479768753052\nCPU times: user 2.37 s, sys: 59.9 ms, total: 2.43 s\nWall time: 426 ms\n"
     ]
    }
   ],
   "source": [
    "%%time\n",
    "\n",
    "with torch.no_grad():\n",
    "    start_scores, end_scores = model(torch.tensor([input_ids], device=device), token_type_ids=torch.tensor([token_type_ids], device=device))\n",
    "    all_tokens = tokenizer.convert_ids_to_tokens(input_ids)\n",
    "\n",
    "print(' '.join(all_tokens[torch.argmax(start_scores): torch.argmax(end_scores)+1]))\n",
    "print(f\"scores: start={torch.max(start_scores)}, end={torch.max(end_scores)}\")"
   ]
  },
  {
   "cell_type": "code",
   "execution_count": 8,
   "metadata": {},
   "outputs": [
    {
     "output_type": "execute_result",
     "data": {
      "text/plain": [
       "<matplotlib.axes._subplots.AxesSubplot at 0x7ff93b6cb290>"
      ]
     },
     "metadata": {},
     "execution_count": 8
    },
    {
     "output_type": "display_data",
     "data": {
      "text/plain": "<Figure size 432x288 with 1 Axes>",
      "image/svg+xml": "<?xml version=\"1.0\" encoding=\"utf-8\" standalone=\"no\"?>\n<!DOCTYPE svg PUBLIC \"-//W3C//DTD SVG 1.1//EN\"\n  \"http://www.w3.org/Graphics/SVG/1.1/DTD/svg11.dtd\">\n<!-- Created with matplotlib (https://matplotlib.org/) -->\n<svg height=\"248.518125pt\" version=\"1.1\" viewBox=\"0 0 368.925 248.518125\" width=\"368.925pt\" xmlns=\"http://www.w3.org/2000/svg\" xmlns:xlink=\"http://www.w3.org/1999/xlink\">\n <defs>\n  <style type=\"text/css\">\n*{stroke-linecap:butt;stroke-linejoin:round;}\n  </style>\n </defs>\n <g id=\"figure_1\">\n  <g id=\"patch_1\">\n   <path d=\"M -0 248.518125 \nL 368.925 248.518125 \nL 368.925 0 \nL -0 0 \nz\n\" style=\"fill:none;\"/>\n  </g>\n  <g id=\"axes_1\">\n   <g id=\"patch_2\">\n    <path d=\"M 26.925 224.64 \nL 361.725 224.64 \nL 361.725 7.2 \nL 26.925 7.2 \nz\n\" style=\"fill:#ffffff;\"/>\n   </g>\n   <g id=\"patch_3\">\n    <path clip-path=\"url(#pd9fbd37d13)\" d=\"M 42.143182 224.64 \nL 55.376392 224.64 \nL 55.376392 155.611429 \nL 42.143182 155.611429 \nz\n\" style=\"fill:#1f77b4;opacity:0.4;\"/>\n   </g>\n   <g id=\"patch_4\">\n    <path clip-path=\"url(#pd9fbd37d13)\" d=\"M 55.376392 224.64 \nL 68.609576 224.64 \nL 68.609576 17.554286 \nL 55.376392 17.554286 \nz\n\" style=\"fill:#1f77b4;opacity:0.4;\"/>\n   </g>\n   <g id=\"patch_5\">\n    <path clip-path=\"url(#pd9fbd37d13)\" d=\"M 68.609548 224.64 \nL 81.842759 224.64 \nL 81.842759 40.56381 \nL 68.609548 40.56381 \nz\n\" style=\"fill:#1f77b4;opacity:0.4;\"/>\n   </g>\n   <g id=\"patch_6\">\n    <path clip-path=\"url(#pd9fbd37d13)\" d=\"M 81.842786 224.64 \nL 95.07597 224.64 \nL 95.07597 75.078095 \nL 81.842786 75.078095 \nz\n\" style=\"fill:#1f77b4;opacity:0.4;\"/>\n   </g>\n   <g id=\"patch_7\">\n    <path clip-path=\"url(#pd9fbd37d13)\" d=\"M 95.075983 224.64 \nL 108.309194 224.64 \nL 108.309194 121.097143 \nL 95.075983 121.097143 \nz\n\" style=\"fill:#1f77b4;opacity:0.4;\"/>\n   </g>\n   <g id=\"patch_8\">\n    <path clip-path=\"url(#pd9fbd37d13)\" d=\"M 108.309208 224.64 \nL 121.542391 224.64 \nL 121.542391 195.878095 \nL 108.309208 195.878095 \nz\n\" style=\"fill:#1f77b4;opacity:0.4;\"/>\n   </g>\n   <g id=\"patch_9\">\n    <path clip-path=\"url(#pd9fbd37d13)\" d=\"M 121.542391 224.64 \nL 134.775574 224.64 \nL 134.775574 195.878095 \nL 121.542391 195.878095 \nz\n\" style=\"fill:#1f77b4;opacity:0.4;\"/>\n   </g>\n   <g id=\"patch_10\">\n    <path clip-path=\"url(#pd9fbd37d13)\" d=\"M 134.775588 224.64 \nL 148.008799 224.64 \nL 148.008799 218.887619 \nL 134.775588 218.887619 \nz\n\" style=\"fill:#1f77b4;opacity:0.4;\"/>\n   </g>\n   <g id=\"patch_11\">\n    <path clip-path=\"url(#pd9fbd37d13)\" d=\"M 148.008812 224.64 \nL 161.241996 224.64 \nL 161.241996 224.64 \nL 148.008812 224.64 \nz\n\" style=\"fill:#1f77b4;opacity:0.4;\"/>\n   </g>\n   <g id=\"patch_12\">\n    <path clip-path=\"url(#pd9fbd37d13)\" d=\"M 161.241996 224.64 \nL 174.475179 224.64 \nL 174.475179 207.382857 \nL 161.241996 207.382857 \nz\n\" style=\"fill:#1f77b4;opacity:0.4;\"/>\n   </g>\n   <g id=\"patch_13\">\n    <path clip-path=\"url(#pd9fbd37d13)\" d=\"M 174.475193 224.64 \nL 187.708403 224.64 \nL 187.708403 224.64 \nL 174.475193 224.64 \nz\n\" style=\"fill:#1f77b4;opacity:0.4;\"/>\n   </g>\n   <g id=\"patch_14\">\n    <path clip-path=\"url(#pd9fbd37d13)\" d=\"M 187.708417 224.64 \nL 200.9416 224.64 \nL 200.9416 207.382857 \nL 187.708417 207.382857 \nz\n\" style=\"fill:#1f77b4;opacity:0.4;\"/>\n   </g>\n   <g id=\"patch_15\">\n    <path clip-path=\"url(#pd9fbd37d13)\" d=\"M 200.941607 224.64 \nL 214.17479 224.64 \nL 214.17479 218.887619 \nL 200.941607 218.887619 \nz\n\" style=\"fill:#1f77b4;opacity:0.4;\"/>\n   </g>\n   <g id=\"patch_16\">\n    <path clip-path=\"url(#pd9fbd37d13)\" d=\"M 214.174797 224.64 \nL 227.408008 224.64 \nL 227.408008 218.887619 \nL 214.174797 218.887619 \nz\n\" style=\"fill:#1f77b4;opacity:0.4;\"/>\n   </g>\n   <g id=\"patch_17\">\n    <path clip-path=\"url(#pd9fbd37d13)\" d=\"M 227.407994 224.64 \nL 240.641205 224.64 \nL 240.641205 218.887619 \nL 227.407994 218.887619 \nz\n\" style=\"fill:#1f77b4;opacity:0.4;\"/>\n   </g>\n   <g id=\"patch_18\">\n    <path clip-path=\"url(#pd9fbd37d13)\" d=\"M 240.641212 224.64 \nL 253.874395 224.64 \nL 253.874395 224.64 \nL 240.641212 224.64 \nz\n\" style=\"fill:#1f77b4;opacity:0.4;\"/>\n   </g>\n   <g id=\"patch_19\">\n    <path clip-path=\"url(#pd9fbd37d13)\" d=\"M 253.874402 224.64 \nL 267.107612 224.64 \nL 267.107612 213.135238 \nL 253.874402 213.135238 \nz\n\" style=\"fill:#1f77b4;opacity:0.4;\"/>\n   </g>\n   <g id=\"patch_20\">\n    <path clip-path=\"url(#pd9fbd37d13)\" d=\"M 267.107599 224.64 \nL 280.340809 224.64 \nL 280.340809 218.887619 \nL 267.107599 218.887619 \nz\n\" style=\"fill:#1f77b4;opacity:0.4;\"/>\n   </g>\n   <g id=\"patch_21\">\n    <path clip-path=\"url(#pd9fbd37d13)\" d=\"M 280.340803 224.64 \nL 293.574013 224.64 \nL 293.574013 218.887619 \nL 280.340803 218.887619 \nz\n\" style=\"fill:#1f77b4;opacity:0.4;\"/>\n   </g>\n   <g id=\"patch_22\">\n    <path clip-path=\"url(#pd9fbd37d13)\" d=\"M 293.574005 224.64 \nL 306.807215 224.64 \nL 306.807215 218.887619 \nL 293.574005 218.887619 \nz\n\" style=\"fill:#1f77b4;opacity:0.4;\"/>\n   </g>\n   <g id=\"patch_23\">\n    <path clip-path=\"url(#pd9fbd37d13)\" d=\"M 306.807206 224.64 \nL 320.040417 224.64 \nL 320.040417 224.64 \nL 306.807206 224.64 \nz\n\" style=\"fill:#1f77b4;opacity:0.4;\"/>\n   </g>\n   <g id=\"patch_24\">\n    <path clip-path=\"url(#pd9fbd37d13)\" d=\"M 320.040407 224.64 \nL 333.273618 224.64 \nL 333.273618 218.887619 \nL 320.040407 218.887619 \nz\n\" style=\"fill:#1f77b4;opacity:0.4;\"/>\n   </g>\n   <g id=\"patch_25\">\n    <path clip-path=\"url(#pd9fbd37d13)\" d=\"M 333.273608 224.64 \nL 346.506818 224.64 \nL 346.506818 218.887619 \nL 333.273608 218.887619 \nz\n\" style=\"fill:#1f77b4;opacity:0.4;\"/>\n   </g>\n   <g id=\"matplotlib.axis_1\">\n    <g id=\"xtick_1\">\n     <g id=\"line2d_1\">\n      <defs>\n       <path d=\"M 0 0 \nL 0 3.5 \n\" id=\"m2e34d702b4\" style=\"stroke:#000000;stroke-width:0.8;\"/>\n      </defs>\n      <g>\n       <use style=\"stroke:#000000;stroke-width:0.8;\" x=\"83.289508\" xlink:href=\"#m2e34d702b4\" y=\"224.64\"/>\n      </g>\n     </g>\n     <g id=\"text_1\">\n      <!-- −8 -->\n      <defs>\n       <path d=\"M 10.59375 35.5 \nL 73.1875 35.5 \nL 73.1875 27.203125 \nL 10.59375 27.203125 \nz\n\" id=\"DejaVuSans-8722\"/>\n       <path d=\"M 31.78125 34.625 \nQ 24.75 34.625 20.71875 30.859375 \nQ 16.703125 27.09375 16.703125 20.515625 \nQ 16.703125 13.921875 20.71875 10.15625 \nQ 24.75 6.390625 31.78125 6.390625 \nQ 38.8125 6.390625 42.859375 10.171875 \nQ 46.921875 13.96875 46.921875 20.515625 \nQ 46.921875 27.09375 42.890625 30.859375 \nQ 38.875 34.625 31.78125 34.625 \nz\nM 21.921875 38.8125 \nQ 15.578125 40.375 12.03125 44.71875 \nQ 8.5 49.078125 8.5 55.328125 \nQ 8.5 64.0625 14.71875 69.140625 \nQ 20.953125 74.21875 31.78125 74.21875 \nQ 42.671875 74.21875 48.875 69.140625 \nQ 55.078125 64.0625 55.078125 55.328125 \nQ 55.078125 49.078125 51.53125 44.71875 \nQ 48 40.375 41.703125 38.8125 \nQ 48.828125 37.15625 52.796875 32.3125 \nQ 56.78125 27.484375 56.78125 20.515625 \nQ 56.78125 9.90625 50.3125 4.234375 \nQ 43.84375 -1.421875 31.78125 -1.421875 \nQ 19.734375 -1.421875 13.25 4.234375 \nQ 6.78125 9.90625 6.78125 20.515625 \nQ 6.78125 27.484375 10.78125 32.3125 \nQ 14.796875 37.15625 21.921875 38.8125 \nz\nM 18.3125 54.390625 \nQ 18.3125 48.734375 21.84375 45.5625 \nQ 25.390625 42.390625 31.78125 42.390625 \nQ 38.140625 42.390625 41.71875 45.5625 \nQ 45.3125 48.734375 45.3125 54.390625 \nQ 45.3125 60.0625 41.71875 63.234375 \nQ 38.140625 66.40625 31.78125 66.40625 \nQ 25.390625 66.40625 21.84375 63.234375 \nQ 18.3125 60.0625 18.3125 54.390625 \nz\n\" id=\"DejaVuSans-56\"/>\n      </defs>\n      <g transform=\"translate(75.918414 239.238437)scale(0.1 -0.1)\">\n       <use xlink:href=\"#DejaVuSans-8722\"/>\n       <use x=\"83.789062\" xlink:href=\"#DejaVuSans-56\"/>\n      </g>\n     </g>\n    </g>\n    <g id=\"xtick_2\">\n     <g id=\"line2d_2\">\n      <g>\n       <use style=\"stroke:#000000;stroke-width:0.8;\" x=\"140.8431\" xlink:href=\"#m2e34d702b4\" y=\"224.64\"/>\n      </g>\n     </g>\n     <g id=\"text_2\">\n      <!-- −6 -->\n      <defs>\n       <path d=\"M 33.015625 40.375 \nQ 26.375 40.375 22.484375 35.828125 \nQ 18.609375 31.296875 18.609375 23.390625 \nQ 18.609375 15.53125 22.484375 10.953125 \nQ 26.375 6.390625 33.015625 6.390625 \nQ 39.65625 6.390625 43.53125 10.953125 \nQ 47.40625 15.53125 47.40625 23.390625 \nQ 47.40625 31.296875 43.53125 35.828125 \nQ 39.65625 40.375 33.015625 40.375 \nz\nM 52.59375 71.296875 \nL 52.59375 62.3125 \nQ 48.875 64.0625 45.09375 64.984375 \nQ 41.3125 65.921875 37.59375 65.921875 \nQ 27.828125 65.921875 22.671875 59.328125 \nQ 17.53125 52.734375 16.796875 39.40625 \nQ 19.671875 43.65625 24.015625 45.921875 \nQ 28.375 48.1875 33.59375 48.1875 \nQ 44.578125 48.1875 50.953125 41.515625 \nQ 57.328125 34.859375 57.328125 23.390625 \nQ 57.328125 12.15625 50.6875 5.359375 \nQ 44.046875 -1.421875 33.015625 -1.421875 \nQ 20.359375 -1.421875 13.671875 8.265625 \nQ 6.984375 17.96875 6.984375 36.375 \nQ 6.984375 53.65625 15.1875 63.9375 \nQ 23.390625 74.21875 37.203125 74.21875 \nQ 40.921875 74.21875 44.703125 73.484375 \nQ 48.484375 72.75 52.59375 71.296875 \nz\n\" id=\"DejaVuSans-54\"/>\n      </defs>\n      <g transform=\"translate(133.472006 239.238437)scale(0.1 -0.1)\">\n       <use xlink:href=\"#DejaVuSans-8722\"/>\n       <use x=\"83.789062\" xlink:href=\"#DejaVuSans-54\"/>\n      </g>\n     </g>\n    </g>\n    <g id=\"xtick_3\">\n     <g id=\"line2d_3\">\n      <g>\n       <use style=\"stroke:#000000;stroke-width:0.8;\" x=\"198.396692\" xlink:href=\"#m2e34d702b4\" y=\"224.64\"/>\n      </g>\n     </g>\n     <g id=\"text_3\">\n      <!-- −4 -->\n      <defs>\n       <path d=\"M 37.796875 64.3125 \nL 12.890625 25.390625 \nL 37.796875 25.390625 \nz\nM 35.203125 72.90625 \nL 47.609375 72.90625 \nL 47.609375 25.390625 \nL 58.015625 25.390625 \nL 58.015625 17.1875 \nL 47.609375 17.1875 \nL 47.609375 0 \nL 37.796875 0 \nL 37.796875 17.1875 \nL 4.890625 17.1875 \nL 4.890625 26.703125 \nz\n\" id=\"DejaVuSans-52\"/>\n      </defs>\n      <g transform=\"translate(191.025598 239.238437)scale(0.1 -0.1)\">\n       <use xlink:href=\"#DejaVuSans-8722\"/>\n       <use x=\"83.789062\" xlink:href=\"#DejaVuSans-52\"/>\n      </g>\n     </g>\n    </g>\n    <g id=\"xtick_4\">\n     <g id=\"line2d_4\">\n      <g>\n       <use style=\"stroke:#000000;stroke-width:0.8;\" x=\"255.950284\" xlink:href=\"#m2e34d702b4\" y=\"224.64\"/>\n      </g>\n     </g>\n     <g id=\"text_4\">\n      <!-- −2 -->\n      <defs>\n       <path d=\"M 19.1875 8.296875 \nL 53.609375 8.296875 \nL 53.609375 0 \nL 7.328125 0 \nL 7.328125 8.296875 \nQ 12.9375 14.109375 22.625 23.890625 \nQ 32.328125 33.6875 34.8125 36.53125 \nQ 39.546875 41.84375 41.421875 45.53125 \nQ 43.3125 49.21875 43.3125 52.78125 \nQ 43.3125 58.59375 39.234375 62.25 \nQ 35.15625 65.921875 28.609375 65.921875 \nQ 23.96875 65.921875 18.8125 64.3125 \nQ 13.671875 62.703125 7.8125 59.421875 \nL 7.8125 69.390625 \nQ 13.765625 71.78125 18.9375 73 \nQ 24.125 74.21875 28.421875 74.21875 \nQ 39.75 74.21875 46.484375 68.546875 \nQ 53.21875 62.890625 53.21875 53.421875 \nQ 53.21875 48.921875 51.53125 44.890625 \nQ 49.859375 40.875 45.40625 35.40625 \nQ 44.1875 33.984375 37.640625 27.21875 \nQ 31.109375 20.453125 19.1875 8.296875 \nz\n\" id=\"DejaVuSans-50\"/>\n      </defs>\n      <g transform=\"translate(248.57919 239.238437)scale(0.1 -0.1)\">\n       <use xlink:href=\"#DejaVuSans-8722\"/>\n       <use x=\"83.789062\" xlink:href=\"#DejaVuSans-50\"/>\n      </g>\n     </g>\n    </g>\n    <g id=\"xtick_5\">\n     <g id=\"line2d_5\">\n      <g>\n       <use style=\"stroke:#000000;stroke-width:0.8;\" x=\"313.503876\" xlink:href=\"#m2e34d702b4\" y=\"224.64\"/>\n      </g>\n     </g>\n     <g id=\"text_5\">\n      <!-- 0 -->\n      <defs>\n       <path d=\"M 31.78125 66.40625 \nQ 24.171875 66.40625 20.328125 58.90625 \nQ 16.5 51.421875 16.5 36.375 \nQ 16.5 21.390625 20.328125 13.890625 \nQ 24.171875 6.390625 31.78125 6.390625 \nQ 39.453125 6.390625 43.28125 13.890625 \nQ 47.125 21.390625 47.125 36.375 \nQ 47.125 51.421875 43.28125 58.90625 \nQ 39.453125 66.40625 31.78125 66.40625 \nz\nM 31.78125 74.21875 \nQ 44.046875 74.21875 50.515625 64.515625 \nQ 56.984375 54.828125 56.984375 36.375 \nQ 56.984375 17.96875 50.515625 8.265625 \nQ 44.046875 -1.421875 31.78125 -1.421875 \nQ 19.53125 -1.421875 13.0625 8.265625 \nQ 6.59375 17.96875 6.59375 36.375 \nQ 6.59375 54.828125 13.0625 64.515625 \nQ 19.53125 74.21875 31.78125 74.21875 \nz\n\" id=\"DejaVuSans-48\"/>\n      </defs>\n      <g transform=\"translate(310.322626 239.238437)scale(0.1 -0.1)\">\n       <use xlink:href=\"#DejaVuSans-48\"/>\n      </g>\n     </g>\n    </g>\n   </g>\n   <g id=\"matplotlib.axis_2\">\n    <g id=\"ytick_1\">\n     <g id=\"line2d_6\">\n      <defs>\n       <path d=\"M 0 0 \nL -3.5 0 \n\" id=\"m4b718a551b\" style=\"stroke:#000000;stroke-width:0.8;\"/>\n      </defs>\n      <g>\n       <use style=\"stroke:#000000;stroke-width:0.8;\" x=\"26.925\" xlink:href=\"#m4b718a551b\" y=\"224.64\"/>\n      </g>\n     </g>\n     <g id=\"text_6\">\n      <!-- 0 -->\n      <g transform=\"translate(13.5625 228.439219)scale(0.1 -0.1)\">\n       <use xlink:href=\"#DejaVuSans-48\"/>\n      </g>\n     </g>\n    </g>\n    <g id=\"ytick_2\">\n     <g id=\"line2d_7\">\n      <g>\n       <use style=\"stroke:#000000;stroke-width:0.8;\" x=\"26.925\" xlink:href=\"#m4b718a551b\" y=\"195.878095\"/>\n      </g>\n     </g>\n     <g id=\"text_7\">\n      <!-- 5 -->\n      <defs>\n       <path d=\"M 10.796875 72.90625 \nL 49.515625 72.90625 \nL 49.515625 64.59375 \nL 19.828125 64.59375 \nL 19.828125 46.734375 \nQ 21.96875 47.46875 24.109375 47.828125 \nQ 26.265625 48.1875 28.421875 48.1875 \nQ 40.625 48.1875 47.75 41.5 \nQ 54.890625 34.8125 54.890625 23.390625 \nQ 54.890625 11.625 47.5625 5.09375 \nQ 40.234375 -1.421875 26.90625 -1.421875 \nQ 22.3125 -1.421875 17.546875 -0.640625 \nQ 12.796875 0.140625 7.71875 1.703125 \nL 7.71875 11.625 \nQ 12.109375 9.234375 16.796875 8.0625 \nQ 21.484375 6.890625 26.703125 6.890625 \nQ 35.15625 6.890625 40.078125 11.328125 \nQ 45.015625 15.765625 45.015625 23.390625 \nQ 45.015625 31 40.078125 35.4375 \nQ 35.15625 39.890625 26.703125 39.890625 \nQ 22.75 39.890625 18.8125 39.015625 \nQ 14.890625 38.140625 10.796875 36.28125 \nz\n\" id=\"DejaVuSans-53\"/>\n      </defs>\n      <g transform=\"translate(13.5625 199.677314)scale(0.1 -0.1)\">\n       <use xlink:href=\"#DejaVuSans-53\"/>\n      </g>\n     </g>\n    </g>\n    <g id=\"ytick_3\">\n     <g id=\"line2d_8\">\n      <g>\n       <use style=\"stroke:#000000;stroke-width:0.8;\" x=\"26.925\" xlink:href=\"#m4b718a551b\" y=\"167.11619\"/>\n      </g>\n     </g>\n     <g id=\"text_8\">\n      <!-- 10 -->\n      <defs>\n       <path d=\"M 12.40625 8.296875 \nL 28.515625 8.296875 \nL 28.515625 63.921875 \nL 10.984375 60.40625 \nL 10.984375 69.390625 \nL 28.421875 72.90625 \nL 38.28125 72.90625 \nL 38.28125 8.296875 \nL 54.390625 8.296875 \nL 54.390625 0 \nL 12.40625 0 \nz\n\" id=\"DejaVuSans-49\"/>\n      </defs>\n      <g transform=\"translate(7.2 170.915409)scale(0.1 -0.1)\">\n       <use xlink:href=\"#DejaVuSans-49\"/>\n       <use x=\"63.623047\" xlink:href=\"#DejaVuSans-48\"/>\n      </g>\n     </g>\n    </g>\n    <g id=\"ytick_4\">\n     <g id=\"line2d_9\">\n      <g>\n       <use style=\"stroke:#000000;stroke-width:0.8;\" x=\"26.925\" xlink:href=\"#m4b718a551b\" y=\"138.354286\"/>\n      </g>\n     </g>\n     <g id=\"text_9\">\n      <!-- 15 -->\n      <g transform=\"translate(7.2 142.153504)scale(0.1 -0.1)\">\n       <use xlink:href=\"#DejaVuSans-49\"/>\n       <use x=\"63.623047\" xlink:href=\"#DejaVuSans-53\"/>\n      </g>\n     </g>\n    </g>\n    <g id=\"ytick_5\">\n     <g id=\"line2d_10\">\n      <g>\n       <use style=\"stroke:#000000;stroke-width:0.8;\" x=\"26.925\" xlink:href=\"#m4b718a551b\" y=\"109.592381\"/>\n      </g>\n     </g>\n     <g id=\"text_10\">\n      <!-- 20 -->\n      <g transform=\"translate(7.2 113.3916)scale(0.1 -0.1)\">\n       <use xlink:href=\"#DejaVuSans-50\"/>\n       <use x=\"63.623047\" xlink:href=\"#DejaVuSans-48\"/>\n      </g>\n     </g>\n    </g>\n    <g id=\"ytick_6\">\n     <g id=\"line2d_11\">\n      <g>\n       <use style=\"stroke:#000000;stroke-width:0.8;\" x=\"26.925\" xlink:href=\"#m4b718a551b\" y=\"80.830476\"/>\n      </g>\n     </g>\n     <g id=\"text_11\">\n      <!-- 25 -->\n      <g transform=\"translate(7.2 84.629695)scale(0.1 -0.1)\">\n       <use xlink:href=\"#DejaVuSans-50\"/>\n       <use x=\"63.623047\" xlink:href=\"#DejaVuSans-53\"/>\n      </g>\n     </g>\n    </g>\n    <g id=\"ytick_7\">\n     <g id=\"line2d_12\">\n      <g>\n       <use style=\"stroke:#000000;stroke-width:0.8;\" x=\"26.925\" xlink:href=\"#m4b718a551b\" y=\"52.068571\"/>\n      </g>\n     </g>\n     <g id=\"text_12\">\n      <!-- 30 -->\n      <defs>\n       <path d=\"M 40.578125 39.3125 \nQ 47.65625 37.796875 51.625 33 \nQ 55.609375 28.21875 55.609375 21.1875 \nQ 55.609375 10.40625 48.1875 4.484375 \nQ 40.765625 -1.421875 27.09375 -1.421875 \nQ 22.515625 -1.421875 17.65625 -0.515625 \nQ 12.796875 0.390625 7.625 2.203125 \nL 7.625 11.71875 \nQ 11.71875 9.328125 16.59375 8.109375 \nQ 21.484375 6.890625 26.8125 6.890625 \nQ 36.078125 6.890625 40.9375 10.546875 \nQ 45.796875 14.203125 45.796875 21.1875 \nQ 45.796875 27.640625 41.28125 31.265625 \nQ 36.765625 34.90625 28.71875 34.90625 \nL 20.21875 34.90625 \nL 20.21875 43.015625 \nL 29.109375 43.015625 \nQ 36.375 43.015625 40.234375 45.921875 \nQ 44.09375 48.828125 44.09375 54.296875 \nQ 44.09375 59.90625 40.109375 62.90625 \nQ 36.140625 65.921875 28.71875 65.921875 \nQ 24.65625 65.921875 20.015625 65.03125 \nQ 15.375 64.15625 9.8125 62.3125 \nL 9.8125 71.09375 \nQ 15.4375 72.65625 20.34375 73.4375 \nQ 25.25 74.21875 29.59375 74.21875 \nQ 40.828125 74.21875 47.359375 69.109375 \nQ 53.90625 64.015625 53.90625 55.328125 \nQ 53.90625 49.265625 50.4375 45.09375 \nQ 46.96875 40.921875 40.578125 39.3125 \nz\n\" id=\"DejaVuSans-51\"/>\n      </defs>\n      <g transform=\"translate(7.2 55.86779)scale(0.1 -0.1)\">\n       <use xlink:href=\"#DejaVuSans-51\"/>\n       <use x=\"63.623047\" xlink:href=\"#DejaVuSans-48\"/>\n      </g>\n     </g>\n    </g>\n    <g id=\"ytick_8\">\n     <g id=\"line2d_13\">\n      <g>\n       <use style=\"stroke:#000000;stroke-width:0.8;\" x=\"26.925\" xlink:href=\"#m4b718a551b\" y=\"23.306667\"/>\n      </g>\n     </g>\n     <g id=\"text_13\">\n      <!-- 35 -->\n      <g transform=\"translate(7.2 27.105885)scale(0.1 -0.1)\">\n       <use xlink:href=\"#DejaVuSans-51\"/>\n       <use x=\"63.623047\" xlink:href=\"#DejaVuSans-53\"/>\n      </g>\n     </g>\n    </g>\n   </g>\n   <g id=\"LineCollection_1\">\n    <path clip-path=\"url(#pd9fbd37d13)\" d=\"M 194.727141 224.64 \nL 194.727141 213.768 \n\" style=\"fill:none;stroke:#1f77b4;\"/>\n    <path clip-path=\"url(#pd9fbd37d13)\" d=\"M 166.229434 224.64 \nL 166.229434 213.768 \n\" style=\"fill:none;stroke:#1f77b4;\"/>\n    <path clip-path=\"url(#pd9fbd37d13)\" d=\"M 70.61925 224.64 \nL 70.61925 213.768 \n\" style=\"fill:none;stroke:#1f77b4;\"/>\n    <path clip-path=\"url(#pd9fbd37d13)\" d=\"M 97.375655 224.64 \nL 97.375655 213.768 \n\" style=\"fill:none;stroke:#1f77b4;\"/>\n    <path clip-path=\"url(#pd9fbd37d13)\" d=\"M 83.230586 224.64 \nL 83.230586 213.768 \n\" style=\"fill:none;stroke:#1f77b4;\"/>\n    <path clip-path=\"url(#pd9fbd37d13)\" d=\"M 73.885131 224.64 \nL 73.885131 213.768 \n\" style=\"fill:none;stroke:#1f77b4;\"/>\n    <path clip-path=\"url(#pd9fbd37d13)\" d=\"M 58.975084 224.64 \nL 58.975084 213.768 \n\" style=\"fill:none;stroke:#1f77b4;\"/>\n    <path clip-path=\"url(#pd9fbd37d13)\" d=\"M 74.582009 224.64 \nL 74.582009 213.768 \n\" style=\"fill:none;stroke:#1f77b4;\"/>\n    <path clip-path=\"url(#pd9fbd37d13)\" d=\"M 81.882031 224.64 \nL 81.882031 213.768 \n\" style=\"fill:none;stroke:#1f77b4;\"/>\n    <path clip-path=\"url(#pd9fbd37d13)\" d=\"M 47.849603 224.64 \nL 47.849603 213.768 \n\" style=\"fill:none;stroke:#1f77b4;\"/>\n    <path clip-path=\"url(#pd9fbd37d13)\" d=\"M 53.115005 224.64 \nL 53.115005 213.768 \n\" style=\"fill:none;stroke:#1f77b4;\"/>\n    <path clip-path=\"url(#pd9fbd37d13)\" d=\"M 43.250535 224.64 \nL 43.250535 213.768 \n\" style=\"fill:none;stroke:#1f77b4;\"/>\n    <path clip-path=\"url(#pd9fbd37d13)\" d=\"M 42.143182 224.64 \nL 42.143182 213.768 \n\" style=\"fill:none;stroke:#1f77b4;\"/>\n    <path clip-path=\"url(#pd9fbd37d13)\" d=\"M 194.727758 224.64 \nL 194.727758 213.768 \n\" style=\"fill:none;stroke:#1f77b4;\"/>\n    <path clip-path=\"url(#pd9fbd37d13)\" d=\"M 84.168653 224.64 \nL 84.168653 213.768 \n\" style=\"fill:none;stroke:#1f77b4;\"/>\n    <path clip-path=\"url(#pd9fbd37d13)\" d=\"M 75.269611 224.64 \nL 75.269611 213.768 \n\" style=\"fill:none;stroke:#1f77b4;\"/>\n    <path clip-path=\"url(#pd9fbd37d13)\" d=\"M 63.394149 224.64 \nL 63.394149 213.768 \n\" style=\"fill:none;stroke:#1f77b4;\"/>\n    <path clip-path=\"url(#pd9fbd37d13)\" d=\"M 77.384284 224.64 \nL 77.384284 213.768 \n\" style=\"fill:none;stroke:#1f77b4;\"/>\n    <path clip-path=\"url(#pd9fbd37d13)\" d=\"M 122.9564 224.64 \nL 122.9564 213.768 \n\" style=\"fill:none;stroke:#1f77b4;\"/>\n    <path clip-path=\"url(#pd9fbd37d13)\" d=\"M 51.959543 224.64 \nL 51.959543 213.768 \n\" style=\"fill:none;stroke:#1f77b4;\"/>\n    <path clip-path=\"url(#pd9fbd37d13)\" d=\"M 70.941164 224.64 \nL 70.941164 213.768 \n\" style=\"fill:none;stroke:#1f77b4;\"/>\n    <path clip-path=\"url(#pd9fbd37d13)\" d=\"M 65.199368 224.64 \nL 65.199368 213.768 \n\" style=\"fill:none;stroke:#1f77b4;\"/>\n    <path clip-path=\"url(#pd9fbd37d13)\" d=\"M 70.103638 224.64 \nL 70.103638 213.768 \n\" style=\"fill:none;stroke:#1f77b4;\"/>\n    <path clip-path=\"url(#pd9fbd37d13)\" d=\"M 57.17958 224.64 \nL 57.17958 213.768 \n\" style=\"fill:none;stroke:#1f77b4;\"/>\n    <path clip-path=\"url(#pd9fbd37d13)\" d=\"M 55.813433 224.64 \nL 55.813433 213.768 \n\" style=\"fill:none;stroke:#1f77b4;\"/>\n    <path clip-path=\"url(#pd9fbd37d13)\" d=\"M 88.939574 224.64 \nL 88.939574 213.768 \n\" style=\"fill:none;stroke:#1f77b4;\"/>\n    <path clip-path=\"url(#pd9fbd37d13)\" d=\"M 46.418552 224.64 \nL 46.418552 213.768 \n\" style=\"fill:none;stroke:#1f77b4;\"/>\n    <path clip-path=\"url(#pd9fbd37d13)\" d=\"M 70.092056 224.64 \nL 70.092056 213.768 \n\" style=\"fill:none;stroke:#1f77b4;\"/>\n    <path clip-path=\"url(#pd9fbd37d13)\" d=\"M 70.502477 224.64 \nL 70.502477 213.768 \n\" style=\"fill:none;stroke:#1f77b4;\"/>\n    <path clip-path=\"url(#pd9fbd37d13)\" d=\"M 103.226238 224.64 \nL 103.226238 213.768 \n\" style=\"fill:none;stroke:#1f77b4;\"/>\n    <path clip-path=\"url(#pd9fbd37d13)\" d=\"M 102.478919 224.64 \nL 102.478919 213.768 \n\" style=\"fill:none;stroke:#1f77b4;\"/>\n    <path clip-path=\"url(#pd9fbd37d13)\" d=\"M 61.470209 224.64 \nL 61.470209 213.768 \n\" style=\"fill:none;stroke:#1f77b4;\"/>\n    <path clip-path=\"url(#pd9fbd37d13)\" d=\"M 60.748934 224.64 \nL 60.748934 213.768 \n\" style=\"fill:none;stroke:#1f77b4;\"/>\n    <path clip-path=\"url(#pd9fbd37d13)\" d=\"M 76.884205 224.64 \nL 76.884205 213.768 \n\" style=\"fill:none;stroke:#1f77b4;\"/>\n    <path clip-path=\"url(#pd9fbd37d13)\" d=\"M 57.328654 224.64 \nL 57.328654 213.768 \n\" style=\"fill:none;stroke:#1f77b4;\"/>\n    <path clip-path=\"url(#pd9fbd37d13)\" d=\"M 72.023214 224.64 \nL 72.023214 213.768 \n\" style=\"fill:none;stroke:#1f77b4;\"/>\n    <path clip-path=\"url(#pd9fbd37d13)\" d=\"M 291.543945 224.64 \nL 291.543945 213.768 \n\" style=\"fill:none;stroke:#1f77b4;\"/>\n    <path clip-path=\"url(#pd9fbd37d13)\" d=\"M 142.162689 224.64 \nL 142.162689 213.768 \n\" style=\"fill:none;stroke:#1f77b4;\"/>\n    <path clip-path=\"url(#pd9fbd37d13)\" d=\"M 161.998522 224.64 \nL 161.998522 213.768 \n\" style=\"fill:none;stroke:#1f77b4;\"/>\n    <path clip-path=\"url(#pd9fbd37d13)\" d=\"M 52.454765 224.64 \nL 52.454765 213.768 \n\" style=\"fill:none;stroke:#1f77b4;\"/>\n    <path clip-path=\"url(#pd9fbd37d13)\" d=\"M 72.075741 224.64 \nL 72.075741 213.768 \n\" style=\"fill:none;stroke:#1f77b4;\"/>\n    <path clip-path=\"url(#pd9fbd37d13)\" d=\"M 77.078562 224.64 \nL 77.078562 213.768 \n\" style=\"fill:none;stroke:#1f77b4;\"/>\n    <path clip-path=\"url(#pd9fbd37d13)\" d=\"M 64.192541 224.64 \nL 64.192541 213.768 \n\" style=\"fill:none;stroke:#1f77b4;\"/>\n    <path clip-path=\"url(#pd9fbd37d13)\" d=\"M 49.363068 224.64 \nL 49.363068 213.768 \n\" style=\"fill:none;stroke:#1f77b4;\"/>\n    <path clip-path=\"url(#pd9fbd37d13)\" d=\"M 75.57108 224.64 \nL 75.57108 213.768 \n\" style=\"fill:none;stroke:#1f77b4;\"/>\n    <path clip-path=\"url(#pd9fbd37d13)\" d=\"M 67.891813 224.64 \nL 67.891813 213.768 \n\" style=\"fill:none;stroke:#1f77b4;\"/>\n    <path clip-path=\"url(#pd9fbd37d13)\" d=\"M 76.231732 224.64 \nL 76.231732 213.768 \n\" style=\"fill:none;stroke:#1f77b4;\"/>\n    <path clip-path=\"url(#pd9fbd37d13)\" d=\"M 303.070541 224.64 \nL 303.070541 213.768 \n\" style=\"fill:none;stroke:#1f77b4;\"/>\n    <path clip-path=\"url(#pd9fbd37d13)\" d=\"M 55.706842 224.64 \nL 55.706842 213.768 \n\" style=\"fill:none;stroke:#1f77b4;\"/>\n    <path clip-path=\"url(#pd9fbd37d13)\" d=\"M 63.971455 224.64 \nL 63.971455 213.768 \n\" style=\"fill:none;stroke:#1f77b4;\"/>\n    <path clip-path=\"url(#pd9fbd37d13)\" d=\"M 85.238792 224.64 \nL 85.238792 213.768 \n\" style=\"fill:none;stroke:#1f77b4;\"/>\n    <path clip-path=\"url(#pd9fbd37d13)\" d=\"M 44.639186 224.64 \nL 44.639186 213.768 \n\" style=\"fill:none;stroke:#1f77b4;\"/>\n    <path clip-path=\"url(#pd9fbd37d13)\" d=\"M 77.287189 224.64 \nL 77.287189 213.768 \n\" style=\"fill:none;stroke:#1f77b4;\"/>\n    <path clip-path=\"url(#pd9fbd37d13)\" d=\"M 44.401194 224.64 \nL 44.401194 213.768 \n\" style=\"fill:none;stroke:#1f77b4;\"/>\n    <path clip-path=\"url(#pd9fbd37d13)\" d=\"M 85.500015 224.64 \nL 85.500015 213.768 \n\" style=\"fill:none;stroke:#1f77b4;\"/>\n    <path clip-path=\"url(#pd9fbd37d13)\" d=\"M 62.793818 224.64 \nL 62.793818 213.768 \n\" style=\"fill:none;stroke:#1f77b4;\"/>\n    <path clip-path=\"url(#pd9fbd37d13)\" d=\"M 96.696643 224.64 \nL 96.696643 213.768 \n\" style=\"fill:none;stroke:#1f77b4;\"/>\n    <path clip-path=\"url(#pd9fbd37d13)\" d=\"M 76.689492 224.64 \nL 76.689492 213.768 \n\" style=\"fill:none;stroke:#1f77b4;\"/>\n    <path clip-path=\"url(#pd9fbd37d13)\" d=\"M 66.904856 224.64 \nL 66.904856 213.768 \n\" style=\"fill:none;stroke:#1f77b4;\"/>\n    <path clip-path=\"url(#pd9fbd37d13)\" d=\"M 56.506688 224.64 \nL 56.506688 213.768 \n\" style=\"fill:none;stroke:#1f77b4;\"/>\n    <path clip-path=\"url(#pd9fbd37d13)\" d=\"M 88.305611 224.64 \nL 88.305611 213.768 \n\" style=\"fill:none;stroke:#1f77b4;\"/>\n    <path clip-path=\"url(#pd9fbd37d13)\" d=\"M 107.914567 224.64 \nL 107.914567 213.768 \n\" style=\"fill:none;stroke:#1f77b4;\"/>\n    <path clip-path=\"url(#pd9fbd37d13)\" d=\"M 95.250251 224.64 \nL 95.250251 213.768 \n\" style=\"fill:none;stroke:#1f77b4;\"/>\n    <path clip-path=\"url(#pd9fbd37d13)\" d=\"M 66.027893 224.64 \nL 66.027893 213.768 \n\" style=\"fill:none;stroke:#1f77b4;\"/>\n    <path clip-path=\"url(#pd9fbd37d13)\" d=\"M 63.7861 224.64 \nL 63.7861 213.768 \n\" style=\"fill:none;stroke:#1f77b4;\"/>\n    <path clip-path=\"url(#pd9fbd37d13)\" d=\"M 58.599846 224.64 \nL 58.599846 213.768 \n\" style=\"fill:none;stroke:#1f77b4;\"/>\n    <path clip-path=\"url(#pd9fbd37d13)\" d=\"M 71.488117 224.64 \nL 71.488117 213.768 \n\" style=\"fill:none;stroke:#1f77b4;\"/>\n    <path clip-path=\"url(#pd9fbd37d13)\" d=\"M 86.257392 224.64 \nL 86.257392 213.768 \n\" style=\"fill:none;stroke:#1f77b4;\"/>\n    <path clip-path=\"url(#pd9fbd37d13)\" d=\"M 56.76293 224.64 \nL 56.76293 213.768 \n\" style=\"fill:none;stroke:#1f77b4;\"/>\n    <path clip-path=\"url(#pd9fbd37d13)\" d=\"M 71.839561 224.64 \nL 71.839561 213.768 \n\" style=\"fill:none;stroke:#1f77b4;\"/>\n    <path clip-path=\"url(#pd9fbd37d13)\" d=\"M 86.688039 224.64 \nL 86.688039 213.768 \n\" style=\"fill:none;stroke:#1f77b4;\"/>\n    <path clip-path=\"url(#pd9fbd37d13)\" d=\"M 92.014502 224.64 \nL 92.014502 213.768 \n\" style=\"fill:none;stroke:#1f77b4;\"/>\n    <path clip-path=\"url(#pd9fbd37d13)\" d=\"M 64.421367 224.64 \nL 64.421367 213.768 \n\" style=\"fill:none;stroke:#1f77b4;\"/>\n    <path clip-path=\"url(#pd9fbd37d13)\" d=\"M 239.442492 224.64 \nL 239.442492 213.768 \n\" style=\"fill:none;stroke:#1f77b4;\"/>\n    <path clip-path=\"url(#pd9fbd37d13)\" d=\"M 107.386523 224.64 \nL 107.386523 213.768 \n\" style=\"fill:none;stroke:#1f77b4;\"/>\n    <path clip-path=\"url(#pd9fbd37d13)\" d=\"M 129.56377 224.64 \nL 129.56377 213.768 \n\" style=\"fill:none;stroke:#1f77b4;\"/>\n    <path clip-path=\"url(#pd9fbd37d13)\" d=\"M 59.064687 224.64 \nL 59.064687 213.768 \n\" style=\"fill:none;stroke:#1f77b4;\"/>\n    <path clip-path=\"url(#pd9fbd37d13)\" d=\"M 92.939808 224.64 \nL 92.939808 213.768 \n\" style=\"fill:none;stroke:#1f77b4;\"/>\n    <path clip-path=\"url(#pd9fbd37d13)\" d=\"M 70.813935 224.64 \nL 70.813935 213.768 \n\" style=\"fill:none;stroke:#1f77b4;\"/>\n    <path clip-path=\"url(#pd9fbd37d13)\" d=\"M 116.449583 224.64 \nL 116.449583 213.768 \n\" style=\"fill:none;stroke:#1f77b4;\"/>\n    <path clip-path=\"url(#pd9fbd37d13)\" d=\"M 346.506815 224.64 \nL 346.506815 213.768 \n\" style=\"fill:none;stroke:#1f77b4;\"/>\n    <path clip-path=\"url(#pd9fbd37d13)\" d=\"M 101.326915 224.64 \nL 101.326915 213.768 \n\" style=\"fill:none;stroke:#1f77b4;\"/>\n    <path clip-path=\"url(#pd9fbd37d13)\" d=\"M 74.338364 224.64 \nL 74.338364 213.768 \n\" style=\"fill:none;stroke:#1f77b4;\"/>\n    <path clip-path=\"url(#pd9fbd37d13)\" d=\"M 90.501038 224.64 \nL 90.501038 213.768 \n\" style=\"fill:none;stroke:#1f77b4;\"/>\n    <path clip-path=\"url(#pd9fbd37d13)\" d=\"M 57.097963 224.64 \nL 57.097963 213.768 \n\" style=\"fill:none;stroke:#1f77b4;\"/>\n    <path clip-path=\"url(#pd9fbd37d13)\" d=\"M 87.139529 224.64 \nL 87.139529 213.768 \n\" style=\"fill:none;stroke:#1f77b4;\"/>\n    <path clip-path=\"url(#pd9fbd37d13)\" d=\"M 86.849572 224.64 \nL 86.849572 213.768 \n\" style=\"fill:none;stroke:#1f77b4;\"/>\n    <path clip-path=\"url(#pd9fbd37d13)\" d=\"M 64.812659 224.64 \nL 64.812659 213.768 \n\" style=\"fill:none;stroke:#1f77b4;\"/>\n    <path clip-path=\"url(#pd9fbd37d13)\" d=\"M 70.616094 224.64 \nL 70.616094 213.768 \n\" style=\"fill:none;stroke:#1f77b4;\"/>\n    <path clip-path=\"url(#pd9fbd37d13)\" d=\"M 69.302831 224.64 \nL 69.302831 213.768 \n\" style=\"fill:none;stroke:#1f77b4;\"/>\n    <path clip-path=\"url(#pd9fbd37d13)\" d=\"M 75.33833 224.64 \nL 75.33833 213.768 \n\" style=\"fill:none;stroke:#1f77b4;\"/>\n    <path clip-path=\"url(#pd9fbd37d13)\" d=\"M 77.327174 224.64 \nL 77.327174 213.768 \n\" style=\"fill:none;stroke:#1f77b4;\"/>\n    <path clip-path=\"url(#pd9fbd37d13)\" d=\"M 84.487933 224.64 \nL 84.487933 213.768 \n\" style=\"fill:none;stroke:#1f77b4;\"/>\n    <path clip-path=\"url(#pd9fbd37d13)\" d=\"M 57.493865 224.64 \nL 57.493865 213.768 \n\" style=\"fill:none;stroke:#1f77b4;\"/>\n    <path clip-path=\"url(#pd9fbd37d13)\" d=\"M 55.108542 224.64 \nL 55.108542 213.768 \n\" style=\"fill:none;stroke:#1f77b4;\"/>\n    <path clip-path=\"url(#pd9fbd37d13)\" d=\"M 69.381045 224.64 \nL 69.381045 213.768 \n\" style=\"fill:none;stroke:#1f77b4;\"/>\n    <path clip-path=\"url(#pd9fbd37d13)\" d=\"M 100.891302 224.64 \nL 100.891302 213.768 \n\" style=\"fill:none;stroke:#1f77b4;\"/>\n    <path clip-path=\"url(#pd9fbd37d13)\" d=\"M 85.73459 224.64 \nL 85.73459 213.768 \n\" style=\"fill:none;stroke:#1f77b4;\"/>\n    <path clip-path=\"url(#pd9fbd37d13)\" d=\"M 223.415129 224.64 \nL 223.415129 213.768 \n\" style=\"fill:none;stroke:#1f77b4;\"/>\n    <path clip-path=\"url(#pd9fbd37d13)\" d=\"M 106.364726 224.64 \nL 106.364726 213.768 \n\" style=\"fill:none;stroke:#1f77b4;\"/>\n    <path clip-path=\"url(#pd9fbd37d13)\" d=\"M 122.103875 224.64 \nL 122.103875 213.768 \n\" style=\"fill:none;stroke:#1f77b4;\"/>\n    <path clip-path=\"url(#pd9fbd37d13)\" d=\"M 57.066512 224.64 \nL 57.066512 213.768 \n\" style=\"fill:none;stroke:#1f77b4;\"/>\n    <path clip-path=\"url(#pd9fbd37d13)\" d=\"M 82.908535 224.64 \nL 82.908535 213.768 \n\" style=\"fill:none;stroke:#1f77b4;\"/>\n    <path clip-path=\"url(#pd9fbd37d13)\" d=\"M 58.169145 224.64 \nL 58.169145 213.768 \n\" style=\"fill:none;stroke:#1f77b4;\"/>\n    <path clip-path=\"url(#pd9fbd37d13)\" d=\"M 58.513481 224.64 \nL 58.513481 213.768 \n\" style=\"fill:none;stroke:#1f77b4;\"/>\n    <path clip-path=\"url(#pd9fbd37d13)\" d=\"M 67.368325 224.64 \nL 67.368325 213.768 \n\" style=\"fill:none;stroke:#1f77b4;\"/>\n    <path clip-path=\"url(#pd9fbd37d13)\" d=\"M 56.327289 224.64 \nL 56.327289 213.768 \n\" style=\"fill:none;stroke:#1f77b4;\"/>\n    <path clip-path=\"url(#pd9fbd37d13)\" d=\"M 78.491802 224.64 \nL 78.491802 213.768 \n\" style=\"fill:none;stroke:#1f77b4;\"/>\n    <path clip-path=\"url(#pd9fbd37d13)\" d=\"M 90.626455 224.64 \nL 90.626455 213.768 \n\" style=\"fill:none;stroke:#1f77b4;\"/>\n    <path clip-path=\"url(#pd9fbd37d13)\" d=\"M 84.113766 224.64 \nL 84.113766 213.768 \n\" style=\"fill:none;stroke:#1f77b4;\"/>\n    <path clip-path=\"url(#pd9fbd37d13)\" d=\"M 64.572197 224.64 \nL 64.572197 213.768 \n\" style=\"fill:none;stroke:#1f77b4;\"/>\n    <path clip-path=\"url(#pd9fbd37d13)\" d=\"M 88.372807 224.64 \nL 88.372807 213.768 \n\" style=\"fill:none;stroke:#1f77b4;\"/>\n    <path clip-path=\"url(#pd9fbd37d13)\" d=\"M 99.278847 224.64 \nL 99.278847 213.768 \n\" style=\"fill:none;stroke:#1f77b4;\"/>\n    <path clip-path=\"url(#pd9fbd37d13)\" d=\"M 82.893111 224.64 \nL 82.893111 213.768 \n\" style=\"fill:none;stroke:#1f77b4;\"/>\n    <path clip-path=\"url(#pd9fbd37d13)\" d=\"M 68.83154 224.64 \nL 68.83154 213.768 \n\" style=\"fill:none;stroke:#1f77b4;\"/>\n    <path clip-path=\"url(#pd9fbd37d13)\" d=\"M 61.530997 224.64 \nL 61.530997 213.768 \n\" style=\"fill:none;stroke:#1f77b4;\"/>\n    <path clip-path=\"url(#pd9fbd37d13)\" d=\"M 61.682075 224.64 \nL 61.682075 213.768 \n\" style=\"fill:none;stroke:#1f77b4;\"/>\n    <path clip-path=\"url(#pd9fbd37d13)\" d=\"M 67.378644 224.64 \nL 67.378644 213.768 \n\" style=\"fill:none;stroke:#1f77b4;\"/>\n    <path clip-path=\"url(#pd9fbd37d13)\" d=\"M 105.331087 224.64 \nL 105.331087 213.768 \n\" style=\"fill:none;stroke:#1f77b4;\"/>\n    <path clip-path=\"url(#pd9fbd37d13)\" d=\"M 100.392814 224.64 \nL 100.392814 213.768 \n\" style=\"fill:none;stroke:#1f77b4;\"/>\n    <path clip-path=\"url(#pd9fbd37d13)\" d=\"M 121.453117 224.64 \nL 121.453117 213.768 \n\" style=\"fill:none;stroke:#1f77b4;\"/>\n    <path clip-path=\"url(#pd9fbd37d13)\" d=\"M 323.384602 224.64 \nL 323.384602 213.768 \n\" style=\"fill:none;stroke:#1f77b4;\"/>\n    <path clip-path=\"url(#pd9fbd37d13)\" d=\"M 113.159784 224.64 \nL 113.159784 213.768 \n\" style=\"fill:none;stroke:#1f77b4;\"/>\n    <path clip-path=\"url(#pd9fbd37d13)\" d=\"M 77.047962 224.64 \nL 77.047962 213.768 \n\" style=\"fill:none;stroke:#1f77b4;\"/>\n    <path clip-path=\"url(#pd9fbd37d13)\" d=\"M 130.463978 224.64 \nL 130.463978 213.768 \n\" style=\"fill:none;stroke:#1f77b4;\"/>\n    <path clip-path=\"url(#pd9fbd37d13)\" d=\"M 79.636863 224.64 \nL 79.636863 213.768 \n\" style=\"fill:none;stroke:#1f77b4;\"/>\n    <path clip-path=\"url(#pd9fbd37d13)\" d=\"M 95.572083 224.64 \nL 95.572083 213.768 \n\" style=\"fill:none;stroke:#1f77b4;\"/>\n    <path clip-path=\"url(#pd9fbd37d13)\" d=\"M 213.245883 224.64 \nL 213.245883 213.768 \n\" style=\"fill:none;stroke:#1f77b4;\"/>\n    <path clip-path=\"url(#pd9fbd37d13)\" d=\"M 170.060902 224.64 \nL 170.060902 213.768 \n\" style=\"fill:none;stroke:#1f77b4;\"/>\n    <path clip-path=\"url(#pd9fbd37d13)\" d=\"M 104.355848 224.64 \nL 104.355848 213.768 \n\" style=\"fill:none;stroke:#1f77b4;\"/>\n    <path clip-path=\"url(#pd9fbd37d13)\" d=\"M 103.691052 224.64 \nL 103.691052 213.768 \n\" style=\"fill:none;stroke:#1f77b4;\"/>\n    <path clip-path=\"url(#pd9fbd37d13)\" d=\"M 263.36642 224.64 \nL 263.36642 213.768 \n\" style=\"fill:none;stroke:#1f77b4;\"/>\n    <path clip-path=\"url(#pd9fbd37d13)\" d=\"M 85.074199 224.64 \nL 85.074199 213.768 \n\" style=\"fill:none;stroke:#1f77b4;\"/>\n    <path clip-path=\"url(#pd9fbd37d13)\" d=\"M 259.068954 224.64 \nL 259.068954 213.768 \n\" style=\"fill:none;stroke:#1f77b4;\"/>\n    <path clip-path=\"url(#pd9fbd37d13)\" d=\"M 93.10753 224.64 \nL 93.10753 213.768 \n\" style=\"fill:none;stroke:#1f77b4;\"/>\n    <path clip-path=\"url(#pd9fbd37d13)\" d=\"M 278.27666 224.64 \nL 278.27666 213.768 \n\" style=\"fill:none;stroke:#1f77b4;\"/>\n    <path clip-path=\"url(#pd9fbd37d13)\" d=\"M 81.898442 224.64 \nL 81.898442 213.768 \n\" style=\"fill:none;stroke:#1f77b4;\"/>\n    <path clip-path=\"url(#pd9fbd37d13)\" d=\"M 102.29683 224.64 \nL 102.29683 213.768 \n\" style=\"fill:none;stroke:#1f77b4;\"/>\n    <path clip-path=\"url(#pd9fbd37d13)\" d=\"M 99.379923 224.64 \nL 99.379923 213.768 \n\" style=\"fill:none;stroke:#1f77b4;\"/>\n    <path clip-path=\"url(#pd9fbd37d13)\" d=\"M 115.196833 224.64 \nL 115.196833 213.768 \n\" style=\"fill:none;stroke:#1f77b4;\"/>\n    <path clip-path=\"url(#pd9fbd37d13)\" d=\"M 69.94397 224.64 \nL 69.94397 213.768 \n\" style=\"fill:none;stroke:#1f77b4;\"/>\n    <path clip-path=\"url(#pd9fbd37d13)\" d=\"M 77.944355 224.64 \nL 77.944355 213.768 \n\" style=\"fill:none;stroke:#1f77b4;\"/>\n    <path clip-path=\"url(#pd9fbd37d13)\" d=\"M 59.284127 224.64 \nL 59.284127 213.768 \n\" style=\"fill:none;stroke:#1f77b4;\"/>\n    <path clip-path=\"url(#pd9fbd37d13)\" d=\"M 123.970458 224.64 \nL 123.970458 213.768 \n\" style=\"fill:none;stroke:#1f77b4;\"/>\n    <path clip-path=\"url(#pd9fbd37d13)\" d=\"M 86.484763 224.64 \nL 86.484763 213.768 \n\" style=\"fill:none;stroke:#1f77b4;\"/>\n    <path clip-path=\"url(#pd9fbd37d13)\" d=\"M 59.321231 224.64 \nL 59.321231 213.768 \n\" style=\"fill:none;stroke:#1f77b4;\"/>\n    <path clip-path=\"url(#pd9fbd37d13)\" d=\"M 53.591263 224.64 \nL 53.591263 213.768 \n\" style=\"fill:none;stroke:#1f77b4;\"/>\n    <path clip-path=\"url(#pd9fbd37d13)\" d=\"M 91.382707 224.64 \nL 91.382707 213.768 \n\" style=\"fill:none;stroke:#1f77b4;\"/>\n    <path clip-path=\"url(#pd9fbd37d13)\" d=\"M 113.196216 224.64 \nL 113.196216 213.768 \n\" style=\"fill:none;stroke:#1f77b4;\"/>\n    <path clip-path=\"url(#pd9fbd37d13)\" d=\"M 63.919257 224.64 \nL 63.919257 213.768 \n\" style=\"fill:none;stroke:#1f77b4;\"/>\n    <path clip-path=\"url(#pd9fbd37d13)\" d=\"M 194.724534 224.64 \nL 194.724534 213.768 \n\" style=\"fill:none;stroke:#1f77b4;\"/>\n   </g>\n   <g id=\"patch_26\">\n    <path d=\"M 26.925 224.64 \nL 26.925 7.2 \n\" style=\"fill:none;stroke:#000000;stroke-linecap:square;stroke-linejoin:miter;stroke-width:0.8;\"/>\n   </g>\n   <g id=\"patch_27\">\n    <path d=\"M 361.725 224.64 \nL 361.725 7.2 \n\" style=\"fill:none;stroke:#000000;stroke-linecap:square;stroke-linejoin:miter;stroke-width:0.8;\"/>\n   </g>\n   <g id=\"patch_28\">\n    <path d=\"M 26.925 224.64 \nL 361.725 224.64 \n\" style=\"fill:none;stroke:#000000;stroke-linecap:square;stroke-linejoin:miter;stroke-width:0.8;\"/>\n   </g>\n   <g id=\"patch_29\">\n    <path d=\"M 26.925 7.2 \nL 361.725 7.2 \n\" style=\"fill:none;stroke:#000000;stroke-linecap:square;stroke-linejoin:miter;stroke-width:0.8;\"/>\n   </g>\n  </g>\n </g>\n <defs>\n  <clipPath id=\"pd9fbd37d13\">\n   <rect height=\"217.44\" width=\"334.8\" x=\"26.925\" y=\"7.2\"/>\n  </clipPath>\n </defs>\n</svg>\n",
      "image/png": "[encoded data removed]"
     },
     "metadata": {
      "needs_background": "light"
     }
    }
   ],
   "source": [
    "sns.distplot(start_scores.cpu(), kde=False, rug=True)"
   ]
  },
  {
   "cell_type": "code",
   "execution_count": 9,
   "metadata": {},
   "outputs": [
    {
     "output_type": "execute_result",
     "data": {
      "text/plain": [
       "\"... of descartes'idealism. >>> kant <<< says that it is not possible to ...\""
      ]
     },
     "metadata": {},
     "execution_count": 9
    }
   ],
   "source": [
    "prefix = tokenizer.decode(input_ids[torch.argmax(start_scores)-8: torch.argmax(start_scores)])\n",
    "answer = tokenizer.decode(input_ids[torch.argmax(start_scores): torch.argmax(end_scores)+1])\n",
    "suffix = tokenizer.decode(input_ids[torch.argmax(end_scores)+1: torch.argmax(end_scores)+8])\n",
    "\n",
    "'... ' + prefix + ' >>> ' + answer + ' <<< ' + suffix + ' ...'"
   ]
  },
  {
   "cell_type": "code",
   "execution_count": 10,
   "metadata": {
    "tags": []
   },
   "outputs": [
    {
     "output_type": "execute_result",
     "data": {
      "text/plain": [
       "                                            question  \\\n",
       "0  Who is a notable exponent of pluralistic ideal...   \n",
       "1  Who is a notable exponent of pluralistic ideal...   \n",
       "2  Who is a notable exponent of pluralistic ideal...   \n",
       "\n",
       "                                             context  \\\n",
       "0  Pluralistic idealism such as that of Gottfried...   \n",
       "1  The 2nd edition (1787) contained a Refutation ...   \n",
       "2  In philosophy, idealism is the group of philos...   \n",
       "\n",
       "                                             encoded  \\\n",
       "0  [101, 2040, 2003, 1037, 3862, 16258, 21576, 19...   \n",
       "1  [101, 2040, 2003, 1037, 3862, 16258, 21576, 19...   \n",
       "2  [101, 2040, 2003, 1037, 3862, 16258, 21576, 19...   \n",
       "\n",
       "                                      token_type_ids  \n",
       "0  [0, 0, 0, 0, 0, 0, 0, 0, 0, 0, 0, 0, 0, 0, 1, ...  \n",
       "1  [0, 0, 0, 0, 0, 0, 0, 0, 0, 0, 0, 0, 0, 0, 1, ...  \n",
       "2  [0, 0, 0, 0, 0, 0, 0, 0, 0, 0, 0, 0, 0, 0, 1, ...  "
      ],
      "text/html": "<div>\n<style scoped>\n    .dataframe tbody tr th:only-of-type {\n        vertical-align: middle;\n    }\n\n    .dataframe tbody tr th {\n        vertical-align: top;\n    }\n\n    .dataframe thead th {\n        text-align: right;\n    }\n</style>\n<table border=\"1\" class=\"dataframe\">\n  <thead>\n    <tr style=\"text-align: right;\">\n      <th></th>\n      <th>question</th>\n      <th>context</th>\n      <th>encoded</th>\n      <th>token_type_ids</th>\n    </tr>\n  </thead>\n  <tbody>\n    <tr>\n      <td>0</td>\n      <td>Who is a notable exponent of pluralistic ideal...</td>\n      <td>Pluralistic idealism such as that of Gottfried...</td>\n      <td>[101, 2040, 2003, 1037, 3862, 16258, 21576, 19...</td>\n      <td>[0, 0, 0, 0, 0, 0, 0, 0, 0, 0, 0, 0, 0, 0, 1, ...</td>\n    </tr>\n    <tr>\n      <td>1</td>\n      <td>Who is a notable exponent of pluralistic ideal...</td>\n      <td>The 2nd edition (1787) contained a Refutation ...</td>\n      <td>[101, 2040, 2003, 1037, 3862, 16258, 21576, 19...</td>\n      <td>[0, 0, 0, 0, 0, 0, 0, 0, 0, 0, 0, 0, 0, 0, 1, ...</td>\n    </tr>\n    <tr>\n      <td>2</td>\n      <td>Who is a notable exponent of pluralistic ideal...</td>\n      <td>In philosophy, idealism is the group of philos...</td>\n      <td>[101, 2040, 2003, 1037, 3862, 16258, 21576, 19...</td>\n      <td>[0, 0, 0, 0, 0, 0, 0, 0, 0, 0, 0, 0, 0, 0, 1, ...</td>\n    </tr>\n  </tbody>\n</table>\n</div>"
     },
     "metadata": {},
     "execution_count": 10
    }
   ],
   "source": [
    "# prepare batch for inference\n",
    "\n",
    "question_df['encoded'] = question_df.apply(lambda row: tokenizer.encode(\"[CLS] \" + row['question'] + \" [SEP] \" + row['context'] + \" [SEP]\", add_special_tokens=False), axis=1)\n",
    "question_df['token_type_ids'] = question_df.apply(lambda row: [0 if i<=row['encoded'].index(102) else 1 for i in range(len(row['encoded']))], axis=1)\n",
    "question_df.iloc[:3]"
   ]
  },
  {
   "cell_type": "code",
   "execution_count": 11,
   "metadata": {},
   "outputs": [
    {
     "output_type": "stream",
     "name": "stdout",
     "text": [
      "CPU times: user 42.2 s, sys: 1.08 s, total: 43.3 s\nWall time: 7.29 s\n"
     ]
    }
   ],
   "source": [
    "%%time \n",
    "\n",
    "with torch.no_grad():\n",
    "    X = torch.nn.utils.rnn.pad_sequence([torch.tensor(row) for row in question_df['encoded']], batch_first=True).to(device)\n",
    "    T = torch.nn.utils.rnn.pad_sequence([torch.tensor(row) for row in question_df['token_type_ids']], batch_first=True).to(device)\n",
    "    start_scores, end_scores = model(X, token_type_ids=T)\n",
    "    max_score, max_start = torch.max(start_scores, axis=1)\n",
    "    soft_max = F.softmax(max_score, dim=0)"
   ]
  },
  {
   "cell_type": "code",
   "execution_count": 12,
   "metadata": {},
   "outputs": [
    {
     "output_type": "stream",
     "name": "stdout",
     "text": [
      "CPU times: user 12.1 s, sys: 364 ms, total: 12.5 s\nWall time: 3.27 s\n"
     ]
    },
    {
     "output_type": "execute_result",
     "data": {
      "text/plain": [
       "      score  start  end             answer  \\\n",
       "0  0.986910     37   54  Gottfried Leibniz   \n",
       "4  0.889905      0    4               Kant   \n",
       "5  0.879589    200  216   Woodrow Wilson's   \n",
       "1  0.699285    106  117        Descartes's   \n",
       "7  0.696889    342  359  Platonic idealism   \n",
       "\n",
       "                                             context  \n",
       "0  Pluralistic idealism such as that of Gottfried...  \n",
       "4  Kant argued against all three forms of materia...  \n",
       "5  Idealism is a term with several related meanin...  \n",
       "1  The 2nd edition (1787) contained a Refutation ...  \n",
       "7  Any philosophy that assigns crucial importance...  "
      ],
      "text/html": "<div>\n<style scoped>\n    .dataframe tbody tr th:only-of-type {\n        vertical-align: middle;\n    }\n\n    .dataframe tbody tr th {\n        vertical-align: top;\n    }\n\n    .dataframe thead th {\n        text-align: right;\n    }\n</style>\n<table border=\"1\" class=\"dataframe\">\n  <thead>\n    <tr style=\"text-align: right;\">\n      <th></th>\n      <th>score</th>\n      <th>start</th>\n      <th>end</th>\n      <th>answer</th>\n      <th>context</th>\n    </tr>\n  </thead>\n  <tbody>\n    <tr>\n      <td>0</td>\n      <td>0.986910</td>\n      <td>37</td>\n      <td>54</td>\n      <td>Gottfried Leibniz</td>\n      <td>Pluralistic idealism such as that of Gottfried...</td>\n    </tr>\n    <tr>\n      <td>4</td>\n      <td>0.889905</td>\n      <td>0</td>\n      <td>4</td>\n      <td>Kant</td>\n      <td>Kant argued against all three forms of materia...</td>\n    </tr>\n    <tr>\n      <td>5</td>\n      <td>0.879589</td>\n      <td>200</td>\n      <td>216</td>\n      <td>Woodrow Wilson's</td>\n      <td>Idealism is a term with several related meanin...</td>\n    </tr>\n    <tr>\n      <td>1</td>\n      <td>0.699285</td>\n      <td>106</td>\n      <td>117</td>\n      <td>Descartes's</td>\n      <td>The 2nd edition (1787) contained a Refutation ...</td>\n    </tr>\n    <tr>\n      <td>7</td>\n      <td>0.696889</td>\n      <td>342</td>\n      <td>359</td>\n      <td>Platonic idealism</td>\n      <td>Any philosophy that assigns crucial importance...</td>\n    </tr>\n  </tbody>\n</table>\n</div>"
     },
     "metadata": {},
     "execution_count": 12
    }
   ],
   "source": [
    "%%time \n",
    "\n",
    "preds = qa_pipe(question_df.to_dict(orient='records'))\n",
    "answer_df = pd.DataFrame.from_records(preds)\n",
    "answer_df['context'] = question_df['context']\n",
    "answer_df = answer_df.sort_values(by='score', ascending=False)\n",
    "answer_df.head()"
   ]
  },
  {
   "cell_type": "code",
   "execution_count": 12,
   "metadata": {},
   "outputs": [
    {
     "output_type": "execute_result",
     "data": {
      "text/plain": [
       "                                             context  \\\n",
       "0  Pluralistic idealism such as that of Gottfried...   \n",
       "1  The 2nd edition (1787) contained a Refutation ...   \n",
       "2  In philosophy, idealism is the group of philos...   \n",
       "3  Absolute idealism is G. W. F. Hegel's account ...   \n",
       "4  Kant argued against all three forms of materia...   \n",
       "5  Idealism is a term with several related meanin...   \n",
       "6  Subjective idealists like George Berkeley are ...   \n",
       "7  Any philosophy that assigns crucial importance...   \n",
       "8  Plato's theory of forms or \"ideas\" describes i...   \n",
       "9  Beginning with Immanuel Kant, German idealists...   \n",
       "\n",
       "                                             encoded  answer_score  \\\n",
       "0  [101, 2040, 2003, 1037, 3862, 16258, 21576, 19...      7.349265   \n",
       "1  [101, 2040, 2003, 1037, 3862, 16258, 21576, 19...      0.306006   \n",
       "2  [101, 2040, 2003, 1037, 3862, 16258, 21576, 19...     -1.357682   \n",
       "3  [101, 2040, 2003, 1037, 3862, 16258, 21576, 19...     -0.208937   \n",
       "4  [101, 2040, 2003, 1037, 3862, 16258, 21576, 19...      0.533006   \n",
       "5  [101, 2040, 2003, 1037, 3862, 16258, 21576, 19...      3.274640   \n",
       "6  [101, 2040, 2003, 1037, 3862, 16258, 21576, 19...      0.780697   \n",
       "7  [101, 2040, 2003, 1037, 3862, 16258, 21576, 19...      0.922421   \n",
       "8  [101, 2040, 2003, 1037, 3862, 16258, 21576, 19...      4.410364   \n",
       "9  [101, 2040, 2003, 1037, 3862, 16258, 21576, 19...      2.009783   \n",
       "\n",
       "   answer_start  answer_softmax  \n",
       "0            22        0.925584  \n",
       "1             0        0.000808  \n",
       "2             0        0.000153  \n",
       "3             0        0.000483  \n",
       "4             0        0.001014  \n",
       "5            64        0.015734  \n",
       "6             0        0.001299  \n",
       "7             0        0.001497  \n",
       "8            54        0.048986  \n",
       "9            16        0.004441  "
      ],
      "text/html": "<div>\n<style scoped>\n    .dataframe tbody tr th:only-of-type {\n        vertical-align: middle;\n    }\n\n    .dataframe tbody tr th {\n        vertical-align: top;\n    }\n\n    .dataframe thead th {\n        text-align: right;\n    }\n</style>\n<table border=\"1\" class=\"dataframe\">\n  <thead>\n    <tr style=\"text-align: right;\">\n      <th></th>\n      <th>context</th>\n      <th>encoded</th>\n      <th>answer_score</th>\n      <th>answer_start</th>\n      <th>answer_softmax</th>\n    </tr>\n  </thead>\n  <tbody>\n    <tr>\n      <td>0</td>\n      <td>Pluralistic idealism such as that of Gottfried...</td>\n      <td>[101, 2040, 2003, 1037, 3862, 16258, 21576, 19...</td>\n      <td>7.349265</td>\n      <td>22</td>\n      <td>0.925584</td>\n    </tr>\n    <tr>\n      <td>1</td>\n      <td>The 2nd edition (1787) contained a Refutation ...</td>\n      <td>[101, 2040, 2003, 1037, 3862, 16258, 21576, 19...</td>\n      <td>0.306006</td>\n      <td>0</td>\n      <td>0.000808</td>\n    </tr>\n    <tr>\n      <td>2</td>\n      <td>In philosophy, idealism is the group of philos...</td>\n      <td>[101, 2040, 2003, 1037, 3862, 16258, 21576, 19...</td>\n      <td>-1.357682</td>\n      <td>0</td>\n      <td>0.000153</td>\n    </tr>\n    <tr>\n      <td>3</td>\n      <td>Absolute idealism is G. W. F. Hegel's account ...</td>\n      <td>[101, 2040, 2003, 1037, 3862, 16258, 21576, 19...</td>\n      <td>-0.208937</td>\n      <td>0</td>\n      <td>0.000483</td>\n    </tr>\n    <tr>\n      <td>4</td>\n      <td>Kant argued against all three forms of materia...</td>\n      <td>[101, 2040, 2003, 1037, 3862, 16258, 21576, 19...</td>\n      <td>0.533006</td>\n      <td>0</td>\n      <td>0.001014</td>\n    </tr>\n    <tr>\n      <td>5</td>\n      <td>Idealism is a term with several related meanin...</td>\n      <td>[101, 2040, 2003, 1037, 3862, 16258, 21576, 19...</td>\n      <td>3.274640</td>\n      <td>64</td>\n      <td>0.015734</td>\n    </tr>\n    <tr>\n      <td>6</td>\n      <td>Subjective idealists like George Berkeley are ...</td>\n      <td>[101, 2040, 2003, 1037, 3862, 16258, 21576, 19...</td>\n      <td>0.780697</td>\n      <td>0</td>\n      <td>0.001299</td>\n    </tr>\n    <tr>\n      <td>7</td>\n      <td>Any philosophy that assigns crucial importance...</td>\n      <td>[101, 2040, 2003, 1037, 3862, 16258, 21576, 19...</td>\n      <td>0.922421</td>\n      <td>0</td>\n      <td>0.001497</td>\n    </tr>\n    <tr>\n      <td>8</td>\n      <td>Plato's theory of forms or \"ideas\" describes i...</td>\n      <td>[101, 2040, 2003, 1037, 3862, 16258, 21576, 19...</td>\n      <td>4.410364</td>\n      <td>54</td>\n      <td>0.048986</td>\n    </tr>\n    <tr>\n      <td>9</td>\n      <td>Beginning with Immanuel Kant, German idealists...</td>\n      <td>[101, 2040, 2003, 1037, 3862, 16258, 21576, 19...</td>\n      <td>2.009783</td>\n      <td>16</td>\n      <td>0.004441</td>\n    </tr>\n  </tbody>\n</table>\n</div>"
     },
     "metadata": {},
     "execution_count": 12
    }
   ],
   "source": [
    "answer_df = question_df[['context', 'encoded']].copy()\n",
    "answer_df['answer_score'] = max_score.cpu().numpy()\n",
    "answer_df['answer_start'] = max_start.cpu().numpy()\n",
    "answer_df['answer_softmax'] = soft_max.cpu().numpy()\n",
    "answer_df"
   ]
  },
  {
   "cell_type": "code",
   "execution_count": 13,
   "metadata": {},
   "outputs": [],
   "source": [
    "max_len = torch.zeros_like(max_start)\n",
    "for i in range(max_start.shape[0]):\n",
    "    max_len[i] = torch.argmax(end_scores[i, max_start[i]:]) + 1\n",
    "\n",
    "answer_df['answer_length'] = max_len.cpu().numpy()"
   ]
  },
  {
   "cell_type": "code",
   "execution_count": 14,
   "metadata": {},
   "outputs": [
    {
     "output_type": "execute_result",
     "data": {
      "text/plain": [
       "                                             context  \\\n",
       "0  Pluralistic idealism such as that of Gottfried...   \n",
       "8  Plato's theory of forms or \"ideas\" describes i...   \n",
       "5  Idealism is a term with several related meanin...   \n",
       "9  Beginning with Immanuel Kant, German idealists...   \n",
       "\n",
       "                                             encoded  answer_score  \\\n",
       "0  [101, 2040, 2003, 1037, 3862, 16258, 21576, 19...      7.349265   \n",
       "8  [101, 2040, 2003, 1037, 3862, 16258, 21576, 19...      4.410364   \n",
       "5  [101, 2040, 2003, 1037, 3862, 16258, 21576, 19...      3.274640   \n",
       "9  [101, 2040, 2003, 1037, 3862, 16258, 21576, 19...      2.009783   \n",
       "\n",
       "   answer_start  answer_softmax  answer_length  \n",
       "0            22        0.925584              4  \n",
       "8            54        0.048986              5  \n",
       "5            64        0.015734              2  \n",
       "9            16        0.004441              4  "
      ],
      "text/html": "<div>\n<style scoped>\n    .dataframe tbody tr th:only-of-type {\n        vertical-align: middle;\n    }\n\n    .dataframe tbody tr th {\n        vertical-align: top;\n    }\n\n    .dataframe thead th {\n        text-align: right;\n    }\n</style>\n<table border=\"1\" class=\"dataframe\">\n  <thead>\n    <tr style=\"text-align: right;\">\n      <th></th>\n      <th>context</th>\n      <th>encoded</th>\n      <th>answer_score</th>\n      <th>answer_start</th>\n      <th>answer_softmax</th>\n      <th>answer_length</th>\n    </tr>\n  </thead>\n  <tbody>\n    <tr>\n      <td>0</td>\n      <td>Pluralistic idealism such as that of Gottfried...</td>\n      <td>[101, 2040, 2003, 1037, 3862, 16258, 21576, 19...</td>\n      <td>7.349265</td>\n      <td>22</td>\n      <td>0.925584</td>\n      <td>4</td>\n    </tr>\n    <tr>\n      <td>8</td>\n      <td>Plato's theory of forms or \"ideas\" describes i...</td>\n      <td>[101, 2040, 2003, 1037, 3862, 16258, 21576, 19...</td>\n      <td>4.410364</td>\n      <td>54</td>\n      <td>0.048986</td>\n      <td>5</td>\n    </tr>\n    <tr>\n      <td>5</td>\n      <td>Idealism is a term with several related meanin...</td>\n      <td>[101, 2040, 2003, 1037, 3862, 16258, 21576, 19...</td>\n      <td>3.274640</td>\n      <td>64</td>\n      <td>0.015734</td>\n      <td>2</td>\n    </tr>\n    <tr>\n      <td>9</td>\n      <td>Beginning with Immanuel Kant, German idealists...</td>\n      <td>[101, 2040, 2003, 1037, 3862, 16258, 21576, 19...</td>\n      <td>2.009783</td>\n      <td>16</td>\n      <td>0.004441</td>\n      <td>4</td>\n    </tr>\n  </tbody>\n</table>\n</div>"
     },
     "metadata": {},
     "execution_count": 14
    }
   ],
   "source": [
    "answer_df = answer_df[answer_df.answer_score > 1.0].sort_values(by='answer_score', ascending=False)\n",
    "answer_df.head()"
   ]
  },
  {
   "cell_type": "code",
   "execution_count": 15,
   "metadata": {},
   "outputs": [],
   "source": [
    "def decode_answer(row):\n",
    "    input_ids = row.encoded\n",
    "    offset = row.answer_start\n",
    "    length = np.clip(row.answer_length, 0, 20)\n",
    "    return tokenizer.decode(input_ids[offset:][:length])"
   ]
  },
  {
   "cell_type": "code",
   "execution_count": 18,
   "metadata": {},
   "outputs": [
    {
     "output_type": "execute_result",
     "data": {
      "text/plain": [
       "   answer_softmax  answer_score             answer\n",
       "0        0.925584      7.349265  gottfried leibniz\n",
       "8        0.048986      4.410364          arne grøn\n",
       "5        0.015734      3.274640     woodrow wilson\n",
       "9        0.004441      2.009783      immanuel kant"
      ],
      "text/html": "<div>\n<style scoped>\n    .dataframe tbody tr th:only-of-type {\n        vertical-align: middle;\n    }\n\n    .dataframe tbody tr th {\n        vertical-align: top;\n    }\n\n    .dataframe thead th {\n        text-align: right;\n    }\n</style>\n<table border=\"1\" class=\"dataframe\">\n  <thead>\n    <tr style=\"text-align: right;\">\n      <th></th>\n      <th>answer_softmax</th>\n      <th>answer_score</th>\n      <th>answer</th>\n    </tr>\n  </thead>\n  <tbody>\n    <tr>\n      <td>0</td>\n      <td>0.925584</td>\n      <td>7.349265</td>\n      <td>gottfried leibniz</td>\n    </tr>\n    <tr>\n      <td>8</td>\n      <td>0.048986</td>\n      <td>4.410364</td>\n      <td>arne grøn</td>\n    </tr>\n    <tr>\n      <td>5</td>\n      <td>0.015734</td>\n      <td>3.274640</td>\n      <td>woodrow wilson</td>\n    </tr>\n    <tr>\n      <td>9</td>\n      <td>0.004441</td>\n      <td>2.009783</td>\n      <td>immanuel kant</td>\n    </tr>\n  </tbody>\n</table>\n</div>"
     },
     "metadata": {},
     "execution_count": 18
    }
   ],
   "source": [
    "answer_df['answer'] = answer_df.apply(decode_answer, axis=1)\n",
    "answer_df[['answer_softmax', 'answer_score', 'answer']].head()"
   ]
  },
  {
   "cell_type": "code",
   "execution_count": 19,
   "metadata": {},
   "outputs": [
    {
     "output_type": "execute_result",
     "data": {
      "text/plain": [
       "[{'answer_softmax': 0.9255843758583069,\n",
       "  'answer_score': 7.349264621734619,\n",
       "  'answer': 'gottfried leibniz',\n",
       "  'context': 'Pluralistic idealism such as that of Gottfried Leibniz takes the view that there are many individual minds that together underlie the existence of the observed world and make possible the existence of the physical universe. Unlike absolute idealism, pluralistic idealism does not assume the existence of a single ultimate mental reality or \"Absolute\". Leibniz\\' form of idealism, known as Panpsychism, views \"monads\" as the true atoms of the universe and as entities having perception. The monads are \"substantial forms of being\",elemental, individual, subject to their own laws, non-interacting, each reflecting the entire universe. Monads are centers of force, which is substance while space, matter and motion are phenomenal and their form and existence is dependent on the simple and immaterial monads. There is a pre-established harmony established by God, the central monad, between the world in the minds of the monads and the external world of objects. Leibniz\\'s cosmology embraced traditional Christian Theism. The English psychologist and philosopher James Ward inspired by Leibniz had also defended a form of pluralistic idealism. According to Ward the universe is composed of \"psychic monads\" of different levels, interacting for mutual self- betterment.'},\n",
       " {'answer_softmax': 0.048985522240400314,\n",
       "  'answer_score': 4.410364151000977,\n",
       "  'answer': 'arne grøn',\n",
       "  'context': 'Plato\\'s theory of forms or \"ideas\" describes ideal forms (for example the platonic solids in geometry or abstracts like Goodness and Justice), as universals existing independently of any particular instance. Arne Grøn calls this doctrine \"the classic example of a metaphysical idealism as a transcendent idealism\", while Simone Klein calls Plato \"the earliest representative of metaphysical objective idealism\". Nevertheless, Plato holds that matter is real, though transitory and imperfect, and is perceived by our body and its senses and given existence by the eternal ideas that are perceived directly by our rational soul. Plato was therefore a metaphysical and epistemological dualist, an outlook that modern idealism has striven to avoid: Plato\\'s thought cannot therefore be counted as idealist in the modern sense, although quantum physics\\' assertion that man\\'s consciousness is an immutable and primary requisite for not merely perceiving but shaping matter, and thus his reality, would give more credence to Plato\\'s dualist position.[citation needed]'},\n",
       " {'answer_softmax': 0.015733635053038597,\n",
       "  'answer_score': 3.2746400833129883,\n",
       "  'answer': 'woodrow wilson',\n",
       "  'context': 'Idealism is a term with several related meanings. It comes via idea from the Greek idein (ἰδεῖν), meaning \"to see\". The term entered the English language by 1743. In ordinary use, as when speaking of Woodrow Wilson\\'s political idealism, it generally suggests the priority of ideals, principles, values, and goals over concrete realities. Idealists are understood to represent the world as it might or should be, unlike pragmatists, who focus on the world as it presently is. In the arts, similarly, idealism affirms imagination and attempts to realize a mental conception of beauty, a standard of perfection, juxtaposed to aesthetic naturalism and realism.'}]"
      ]
     },
     "metadata": {},
     "execution_count": 19
    }
   ],
   "source": [
    "answer_df[['answer_softmax', 'answer_score', 'answer', 'context']].iloc[:3].to_dict(orient='records')"
   ]
  },
  {
   "cell_type": "code",
   "execution_count": null,
   "metadata": {},
   "outputs": [],
   "source": []
  }
 ]
}