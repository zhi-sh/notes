{
 "metadata": {
  "language_info": {
   "codemirror_mode": {
    "name": "ipython",
    "version": 3
   },
   "file_extension": ".py",
   "mimetype": "text/x-python",
   "name": "python",
   "nbconvert_exporter": "python",
   "pygments_lexer": "ipython3",
   "version": "3.7.4-final"
  },
  "orig_nbformat": 2,
  "kernelspec": {
   "name": "python3",
   "display_name": "Python 3"
  }
 },
 "nbformat": 4,
 "nbformat_minor": 2,
 "cells": [
  {
   "source": [
    "%reload_ext autoreload\n",
    "%autoreload 2\n",
    "%matplotlib inline\n",
    "\n",
    "import os \n",
    "import json \n",
    "import pickle\n",
    "import random\n",
    "\n",
    "import spacy\n",
    "import numpy as np\n",
    "import pandas as pd \n",
    "from tqdm import tqdm\n",
    "from transformers import pipeline\n",
    "from sklearn.feature_extraction.text import TfidfVectorizer\n",
    "\n",
    "from settings import *\n",
    "\n",
    "spy = spacy.load('en_core_web_sm')"
   ],
   "cell_type": "code",
   "metadata": {},
   "execution_count": 40,
   "outputs": []
  },
  {
   "cell_type": "code",
   "execution_count": 3,
   "metadata": {},
   "outputs": [
    {
     "output_type": "execute_result",
     "data": {
      "text/plain": [
       "(19035, 86821)"
      ]
     },
     "metadata": {},
     "execution_count": 3
    }
   ],
   "source": [
    "# Extract Questions from SQuAD\n",
    "with open(SQuAD_train) as fr:\n",
    "    doc = json.load(fr)\n",
    "\n",
    "paragraphs = []\n",
    "questions = []\n",
    "for topic in doc['data']:\n",
    "    for pgraph in topic['paragraphs']:\n",
    "        paragraphs.append(pgraph['context'])\n",
    "        for qa in pgraph['qas']:\n",
    "            if not qa['is_impossible']:\n",
    "                questions.append(qa['question'])\n",
    "\n",
    "len(paragraphs), len(questions)"
   ]
  },
  {
   "cell_type": "code",
   "execution_count": 4,
   "metadata": {},
   "outputs": [],
   "source": [
    "# Map words to lemmes\n",
    "\n",
    "def lemmatize(text):\n",
    "    return ' '.join([word.lemma_ for word in spy(text)])"
   ]
  },
  {
   "cell_type": "code",
   "execution_count": 10,
   "metadata": {},
   "outputs": [
    {
     "output_type": "stream",
     "name": "stderr",
     "text": [
      "100%|██████████| 19035/19035 [07:02<00:00, 45.06it/s]\n",
      "CPU times: user 6min 38s, sys: 29.7 s, total: 7min 8s\n",
      "Wall time: 7min 2s\n"
     ]
    }
   ],
   "source": [
    "%%time\n",
    "\n",
    "if not os.path.isfile(LEMMA_CACHE):\n",
    "    lemmas = [lemmatize(par) for par in tqdm(paragraphs)]\n",
    "    df = pd.DataFrame(data={'context': paragraphs, 'lemmas': lemmas})\n",
    "    df.to_feather(LEMMA_CACHE)\n",
    "\n",
    "df = pd.read_feather(LEMMA_CACHE)\n",
    "paragraphs = df.context\n",
    "lemmas = df.lemmas"
   ]
  },
  {
   "cell_type": "code",
   "execution_count": 11,
   "metadata": {},
   "outputs": [
    {
     "output_type": "execute_result",
     "data": {
      "text/plain": [
       "[('The Ancient Near East is a term of the 20th century intended to stabilize the ge',\n",
       "  'the Ancient Near East be a term of the 20th century intend to stabilize the geog'),\n",
       " ('Nearly two-thirds of all murders in Michigan in 2011 occurred in Detroit. Althou',\n",
       "  'nearly two - third of all murder in Michigan in 2011 occur in Detroit . although'),\n",
       " ('Bern has a population of 140,634 people and 34% of the population are resident f',\n",
       "  'Bern have a population of 140,634 people and 34 % of the population be resident '),\n",
       " ('The most significant event between the 7th and 11th century was the Tripartite s',\n",
       "  'the most significant event between the 7th and 11th century be the Tripartite st'),\n",
       " ('Nanjing is endowed with rich natural resources, which include more than 40 kinds',\n",
       "  'Nanjing be endow with rich natural resource , which include more than 40 kind of'),\n",
       " ('In 525 BC, the powerful Achaemenid Persians, led by Cambyses II, began their con',\n",
       "  'in 525 BC , the powerful Achaemenid Persians , lead by Cambyses II , begin -PRON'),\n",
       " ('A scientific study in the journal, Biological Conservation, states that trophy h',\n",
       "  'a scientific study in the journal , Biological Conservation , state that trophy '),\n",
       " ('Charles Hedley, a naturalist at the Australian Museum, accompanied the 1896 expe',\n",
       "  'Charles Hedley , a naturalist at the Australian Museum , accompany the 1896 expe'),\n",
       " ('However, an analysis by the Regional Data Cooperative for Greater New Haven, Inc',\n",
       "  'however , an analysis by the Regional Data Cooperative for Greater New Haven , I'),\n",
       " ('In the 1950s, the recruitment of women was open to roles in medicine, communicat',\n",
       "  'in the 1950 , the recruitment of woman be open to role in medicine , communicati')]"
      ]
     },
     "metadata": {},
     "execution_count": 11
    }
   ],
   "source": [
    "rand_idx = [random.randint(0, len(lemmas)-1) for i in range(10)]\n",
    "\n",
    "[(paragraphs[i][:80], lemmas[i][:80]) for i in rand_idx]"
   ]
  },
  {
   "cell_type": "code",
   "execution_count": 33,
   "metadata": {},
   "outputs": [
    {
     "output_type": "stream",
     "name": "stdout",
     "text": [
      "CPU times: user 7.27 s, sys: 400 ms, total: 7.67 s\nWall time: 7.24 s\n"
     ]
    }
   ],
   "source": [
    "%%time\n",
    "\n",
    "if not os.path.isfile(VECTOR_CACHE):\n",
    "    vectorizer = TfidfVectorizer(stop_words='english', min_df=5, max_df=.5, ngram_range=(1, 3))\n",
    "    tfidf = vectorizer.fit_transform(lemmas)\n",
    "    with open(VECTOR_CACHE, 'wb') as fw:\n",
    "        pickle.dump(dict(vectorizer=vectorizer, tfidf=tfidf), fw)\n",
    "else:\n",
    "    with open(VECTOR_CACHE, 'rb') as fr:\n",
    "        cache = pickle.load(fr)\n",
    "        vectorizer = cache['vectorizer']\n",
    "        tfidf = cache['tfidf']"
   ]
  },
  {
   "cell_type": "code",
   "execution_count": 59,
   "metadata": {},
   "outputs": [
    {
     "output_type": "execute_result",
     "data": {
      "text/plain": [
       "(4, [array(['exponent', 'idealism', 'notable', 'pluralistic'], dtype='<U42')])"
      ]
     },
     "metadata": {},
     "execution_count": 59
    }
   ],
   "source": [
    "# Fetch contexts related to question\n",
    "\n",
    "question = \"Who is a notable exponent of pluralistic idealism?\"\n",
    "query = vectorizer.transform([lemmatize(question)])\n",
    "(query>0).sum(), vectorizer.inverse_transform(query)"
   ]
  },
  {
   "cell_type": "code",
   "execution_count": 60,
   "metadata": {},
   "outputs": [
    {
     "output_type": "stream",
     "name": "stdout",
     "text": [
      "CPU times: user 4.19 ms, sys: 815 µs, total: 5 ms\nWall time: 4.37 ms\n"
     ]
    },
    {
     "output_type": "execute_result",
     "data": {
      "text/plain": [
       "['Pluralistic idealism such as that of Gottfried Leibniz takes the view that there are many individual minds that together underlie the existence of the observed world and make possible the existence of the physical universe. Unlike absolute idealism, pluralistic idealism does not assume the existence of a single ultimate mental reality or \"Absolute\". Leibniz\\' form of idealism, known as Panpsychism, views \"monads\" as the true atoms of the universe and as entities having perception. The monads are \"substantial forms of being\",elemental, individual, subject to their own laws, non-interacting, each reflecting the entire universe. Monads are centers of force, which is substance while space, matter and motion are phenomenal and their form and existence is dependent on the simple and immaterial monads. There is a pre-established harmony established by God, the central monad, between the world in the minds of the monads and the external world of objects. Leibniz\\'s cosmology embraced traditional Christian Theism. The English psychologist and philosopher James Ward inspired by Leibniz had also defended a form of pluralistic idealism. According to Ward the universe is composed of \"psychic monads\" of different levels, interacting for mutual self- betterment.',\n",
       " 'The 2nd edition (1787) contained a Refutation of Idealism to distinguish his transcendental idealism from Descartes\\'s Sceptical Idealism and Berkeley\\'s anti-realist strain of Subjective Idealism. The section Paralogisms of Pure Reason is an implicit critique of Descartes\\' idealism. Kant says that it is not possible to infer the \\'I\\' as an object (Descartes\\' cogito ergo sum) purely from \"the spontaneity of thought\". Kant focused on ideas drawn from British philosophers such as Locke, Berkeley and Hume but distinguished his transcendental or critical idealism from previous varieties;',\n",
       " 'In philosophy, idealism is the group of philosophies which assert that reality, or reality as we can know it, is fundamentally mental, mentally constructed, or otherwise immaterial. Epistemologically, idealism manifests as a skepticism about the possibility of knowing any mind-independent thing. In a sociological sense, idealism emphasizes how human ideas—especially beliefs and values—shape society. As an ontological doctrine, idealism goes further, asserting that all entities are composed of mind or spirit. Idealism thus rejects physicalist and dualist theories that fail to ascribe priority to the mind.']"
      ]
     },
     "metadata": {},
     "execution_count": 60
    }
   ],
   "source": [
    "%%time\n",
    "# compare the vectorized query against all paragraphs in the corpus.\n",
    "\n",
    "scores = (tfidf*query.T).toarray()\n",
    "results = (np.flip(np.argsort(scores, axis=0)))\n",
    "[paragraphs[i] for i in results[:3, 0]]"
   ]
  },
  {
   "cell_type": "code",
   "execution_count": 61,
   "metadata": {
    "tags": []
   },
   "outputs": [
    {
     "output_type": "stream",
     "name": "stderr",
     "text": [
      "Some weights of the model checkpoint at /Users/liuzhi/models/bert-base-uncased were not used when initializing BertForQuestionAnswering: ['cls.predictions.bias', 'cls.predictions.transform.dense.weight', 'cls.predictions.transform.dense.bias', 'cls.predictions.decoder.weight', 'cls.seq_relationship.weight', 'cls.seq_relationship.bias', 'cls.predictions.transform.LayerNorm.weight', 'cls.predictions.transform.LayerNorm.bias']\n",
      "- This IS expected if you are initializing BertForQuestionAnswering from the checkpoint of a model trained on another task or with another architecture (e.g. initializing a BertForSequenceClassification model from a BertForPretraining model).\n",
      "- This IS NOT expected if you are initializing BertForQuestionAnswering from the checkpoint of a model that you expect to be exactly identical (initializing a BertForSequenceClassification model from a BertForSequenceClassification model).\n",
      "Some weights of BertForQuestionAnswering were not initialized from the model checkpoint at /Users/liuzhi/models/bert-base-uncased and are newly initialized: ['qa_outputs.weight', 'qa_outputs.bias']\n",
      "You should probably TRAIN this model on a down-stream task to be able to use it for predictions and inference.\n"
     ]
    }
   ],
   "source": [
    "# Extract answers from contexts\n",
    "\n",
    "qa_pipe = pipeline('question-answering', model=BERT_MODEL, tokenizer=BERT_MODEL)"
   ]
  },
  {
   "cell_type": "code",
   "execution_count": 62,
   "metadata": {},
   "outputs": [
    {
     "output_type": "stream",
     "name": "stdout",
     "text": [
      "CPU times: user 3.61 ms, sys: 5.27 ms, total: 8.88 ms\nWall time: 8.94 ms\n"
     ]
    }
   ],
   "source": [
    "%%time \n",
    "\n",
    "THRESH = 0.01\n",
    "candicate_idxs = [(i, scores[i]) for i in results[0:10, 0]]\n",
    "contexts = [(paragraphs[i], s) for (i, s) in candicate_idxs if s>THRESH]\n",
    "question_df = pd.DataFrame.from_records([{\n",
    "    'question': question,\n",
    "    'context': ctx\n",
    "} for (ctx, s) in contexts])\n",
    "question_df.to_feather('cache/question_context.feather')"
   ]
  },
  {
   "cell_type": "code",
   "execution_count": 63,
   "metadata": {},
   "outputs": [
    {
     "output_type": "stream",
     "name": "stdout",
     "text": [
      "CPU times: user 19.5 s, sys: 516 ms, total: 20 s\nWall time: 4.56 s\n"
     ]
    },
    {
     "output_type": "execute_result",
     "data": {
      "text/plain": [
       "      score  start  end                                             answer  \\\n",
       "4  0.000222    172  182                                         change and   \n",
       "9  0.000222    237  272                \"ideal\" character of all phenomena,   \n",
       "2  0.000182     80   96                                   or reality as we   \n",
       "3  0.000160    187  242  idealism\" of Berkeley and the \"transcendental ...   \n",
       "5  0.000142     89  144  (ἰδεῖν), meaning \"to see\". The term entered th...   \n",
       "\n",
       "                                             context  \n",
       "4  Kant argued against all three forms of materia...  \n",
       "9  Beginning with Immanuel Kant, German idealists...  \n",
       "2  In philosophy, idealism is the group of philos...  \n",
       "3  Absolute idealism is G. W. F. Hegel's account ...  \n",
       "5  Idealism is a term with several related meanin...  "
      ],
      "text/html": "<div>\n<style scoped>\n    .dataframe tbody tr th:only-of-type {\n        vertical-align: middle;\n    }\n\n    .dataframe tbody tr th {\n        vertical-align: top;\n    }\n\n    .dataframe thead th {\n        text-align: right;\n    }\n</style>\n<table border=\"1\" class=\"dataframe\">\n  <thead>\n    <tr style=\"text-align: right;\">\n      <th></th>\n      <th>score</th>\n      <th>start</th>\n      <th>end</th>\n      <th>answer</th>\n      <th>context</th>\n    </tr>\n  </thead>\n  <tbody>\n    <tr>\n      <td>4</td>\n      <td>0.000222</td>\n      <td>172</td>\n      <td>182</td>\n      <td>change and</td>\n      <td>Kant argued against all three forms of materia...</td>\n    </tr>\n    <tr>\n      <td>9</td>\n      <td>0.000222</td>\n      <td>237</td>\n      <td>272</td>\n      <td>\"ideal\" character of all phenomena,</td>\n      <td>Beginning with Immanuel Kant, German idealists...</td>\n    </tr>\n    <tr>\n      <td>2</td>\n      <td>0.000182</td>\n      <td>80</td>\n      <td>96</td>\n      <td>or reality as we</td>\n      <td>In philosophy, idealism is the group of philos...</td>\n    </tr>\n    <tr>\n      <td>3</td>\n      <td>0.000160</td>\n      <td>187</td>\n      <td>242</td>\n      <td>idealism\" of Berkeley and the \"transcendental ...</td>\n      <td>Absolute idealism is G. W. F. Hegel's account ...</td>\n    </tr>\n    <tr>\n      <td>5</td>\n      <td>0.000142</td>\n      <td>89</td>\n      <td>144</td>\n      <td>(ἰδεῖν), meaning \"to see\". The term entered th...</td>\n      <td>Idealism is a term with several related meanin...</td>\n    </tr>\n  </tbody>\n</table>\n</div>"
     },
     "metadata": {},
     "execution_count": 63
    }
   ],
   "source": [
    "%%time \n",
    "\n",
    "preds = qa_pipe(question_df.to_dict(orient='records'))\n",
    "answer_df = pd.DataFrame.from_records(preds)\n",
    "answer_df['context'] = question_df['context']\n",
    "answer_df = answer_df.sort_values(by='score', ascending=False)\n",
    "answer_df.head()"
   ]
  },
  {
   "cell_type": "code",
   "execution_count": null,
   "metadata": {},
   "outputs": [],
   "source": []
  }
 ]
}