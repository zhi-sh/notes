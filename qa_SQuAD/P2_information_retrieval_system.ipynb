{
 "metadata": {
  "language_info": {
   "codemirror_mode": {
    "name": "ipython",
    "version": 3
   },
   "file_extension": ".py",
   "mimetype": "text/x-python",
   "name": "python",
   "nbconvert_exporter": "python",
   "pygments_lexer": "ipython3",
   "version": "3.7.4-final"
  },
  "orig_nbformat": 2,
  "kernelspec": {
   "name": "python3",
   "display_name": "Python 3"
  }
 },
 "nbformat": 4,
 "nbformat_minor": 2,
 "cells": [
  {
   "source": [
    "%reload_ext autoreload\n",
    "%autoreload 2\n",
    "%matplotlib inline\n",
    "\n",
    "import os \n",
    "import json \n",
    "import pickle\n",
    "import random\n",
    "\n",
    "import spacy\n",
    "import numpy as np\n",
    "import pandas as pd \n",
    "from tqdm import tqdm\n",
    "from transformers import pipeline\n",
    "from sklearn.feature_extraction.text import TfidfVectorizer\n",
    "\n",
    "from settings import *\n",
    "\n",
    "spy = spacy.load('en_core_web_sm')"
   ],
   "cell_type": "code",
   "metadata": {},
   "execution_count": 2,
   "outputs": []
  },
  {
   "cell_type": "code",
   "execution_count": 3,
   "metadata": {},
   "outputs": [
    {
     "output_type": "execute_result",
     "data": {
      "text/plain": [
       "(19035, 86821)"
      ]
     },
     "metadata": {},
     "execution_count": 3
    }
   ],
   "source": [
    "# Extract Questions from SQuAD\n",
    "with open(SQuAD_train) as fr:\n",
    "    doc = json.load(fr)\n",
    "\n",
    "paragraphs = []\n",
    "questions = []\n",
    "for topic in doc['data']:\n",
    "    for pgraph in topic['paragraphs']:\n",
    "        paragraphs.append(pgraph['context'])\n",
    "        for qa in pgraph['qas']:\n",
    "            if not qa['is_impossible']:\n",
    "                questions.append(qa['question'])\n",
    "\n",
    "len(paragraphs), len(questions)"
   ]
  },
  {
   "cell_type": "code",
   "execution_count": 4,
   "metadata": {},
   "outputs": [],
   "source": [
    "# Map words to lemmes\n",
    "\n",
    "def lemmatize(text):\n",
    "    return ' '.join([word.lemma_ for word in spy(text)])"
   ]
  },
  {
   "cell_type": "code",
   "execution_count": 5,
   "metadata": {},
   "outputs": [
    {
     "output_type": "stream",
     "name": "stdout",
     "text": [
      "CPU times: user 121 ms, sys: 59.7 ms, total: 181 ms\nWall time: 256 ms\n"
     ]
    }
   ],
   "source": [
    "%%time\n",
    "\n",
    "if not os.path.isfile(LEMMA_CACHE):\n",
    "    lemmas = [lemmatize(par) for par in tqdm(paragraphs)]\n",
    "    df = pd.DataFrame(data={'context': paragraphs, 'lemmas': lemmas})\n",
    "    df.to_feather(LEMMA_CACHE)\n",
    "\n",
    "df = pd.read_feather(LEMMA_CACHE)\n",
    "paragraphs = df.context\n",
    "lemmas = df.lemmas"
   ]
  },
  {
   "cell_type": "code",
   "execution_count": 6,
   "metadata": {},
   "outputs": [
    {
     "output_type": "execute_result",
     "data": {
      "text/plain": [
       "[('Euro1080, a division of the former and now bankrupt Belgian TV services company ',\n",
       "  'Euro1080 , a division of the former and now bankrupt belgian tv service company '),\n",
       " ('The term child labour can be misleading when it confuses harmful work with emplo',\n",
       "  'the term child labour can be mislead when -PRON- confuse harmful work with emplo'),\n",
       " ('On September 21, 1529, Álvaro de Saavedra Cerón commanded the Spanish ship Flori',\n",
       "  'on September 21 , 1529 , Álvaro de Saavedra Cerón command the spanish ship Flori'),\n",
       " ('From an institutional perspective, the rules of the House assign a number of spe',\n",
       "  'from an institutional perspective , the rule of the House assign a number of spe'),\n",
       " ('The Recommended Exposure Index (REI) technique, new in the 2006 version of the s',\n",
       "  'the Recommended Exposure Index ( REI ) technique , new in the 2006 version of th'),\n",
       " ('Arsenal was the first club from the south of England to join The Football League',\n",
       "  'Arsenal be the first club from the south of England to join the Football League '),\n",
       " ('In addition to such annual festivals like Calle Ocho Festival and Carnaval Miami',\n",
       "  'in addition to such annual festival like Calle Ocho Festival and Carnaval Miami '),\n",
       " ('Among the challenges being faced to improve the efficiency of LED-based white li',\n",
       "  'among the challenge be face to improve the efficiency of LED - base white light '),\n",
       " ('Spring and autumn have, on average, mild days and fresh nights but are changing ',\n",
       "  'spring and autumn have , on average , mild day and fresh night but be change and'),\n",
       " ('The Australian government controls the exclusive economic zone (EEZ) and revenue',\n",
       "  'the australian government control the exclusive economic zone ( eez ) and revenu')]"
      ]
     },
     "metadata": {},
     "execution_count": 6
    }
   ],
   "source": [
    "rand_idx = [random.randint(0, len(lemmas)-1) for i in range(10)]\n",
    "\n",
    "[(paragraphs[i][:80], lemmas[i][:80]) for i in rand_idx]"
   ]
  },
  {
   "cell_type": "code",
   "execution_count": 7,
   "metadata": {},
   "outputs": [
    {
     "output_type": "stream",
     "name": "stdout",
     "text": [
      "CPU times: user 673 ms, sys: 156 ms, total: 828 ms\nWall time: 846 ms\n"
     ]
    }
   ],
   "source": [
    "%%time\n",
    "\n",
    "if not os.path.isfile(VECTOR_CACHE):\n",
    "    vectorizer = TfidfVectorizer(stop_words='english', min_df=5, max_df=.5, ngram_range=(1, 3))\n",
    "    tfidf = vectorizer.fit_transform(lemmas)\n",
    "    with open(VECTOR_CACHE, 'wb') as fw:\n",
    "        pickle.dump(dict(vectorizer=vectorizer, tfidf=tfidf), fw)\n",
    "else:\n",
    "    with open(VECTOR_CACHE, 'rb') as fr:\n",
    "        cache = pickle.load(fr)\n",
    "        vectorizer = cache['vectorizer']\n",
    "        tfidf = cache['tfidf']"
   ]
  },
  {
   "cell_type": "code",
   "execution_count": 8,
   "metadata": {},
   "outputs": [
    {
     "output_type": "execute_result",
     "data": {
      "text/plain": [
       "(4, [array(['exponent', 'idealism', 'notable', 'pluralistic'], dtype='<U42')])"
      ]
     },
     "metadata": {},
     "execution_count": 8
    }
   ],
   "source": [
    "# Fetch contexts related to question\n",
    "\n",
    "question = \"Who is a notable exponent of pluralistic idealism?\"\n",
    "query = vectorizer.transform([lemmatize(question)])\n",
    "(query>0).sum(), vectorizer.inverse_transform(query)"
   ]
  },
  {
   "cell_type": "code",
   "execution_count": 9,
   "metadata": {},
   "outputs": [
    {
     "output_type": "stream",
     "name": "stdout",
     "text": [
      "CPU times: user 4.39 ms, sys: 691 µs, total: 5.08 ms\nWall time: 5.05 ms\n"
     ]
    },
    {
     "output_type": "execute_result",
     "data": {
      "text/plain": [
       "['Pluralistic idealism such as that of Gottfried Leibniz takes the view that there are many individual minds that together underlie the existence of the observed world and make possible the existence of the physical universe. Unlike absolute idealism, pluralistic idealism does not assume the existence of a single ultimate mental reality or \"Absolute\". Leibniz\\' form of idealism, known as Panpsychism, views \"monads\" as the true atoms of the universe and as entities having perception. The monads are \"substantial forms of being\",elemental, individual, subject to their own laws, non-interacting, each reflecting the entire universe. Monads are centers of force, which is substance while space, matter and motion are phenomenal and their form and existence is dependent on the simple and immaterial monads. There is a pre-established harmony established by God, the central monad, between the world in the minds of the monads and the external world of objects. Leibniz\\'s cosmology embraced traditional Christian Theism. The English psychologist and philosopher James Ward inspired by Leibniz had also defended a form of pluralistic idealism. According to Ward the universe is composed of \"psychic monads\" of different levels, interacting for mutual self- betterment.',\n",
       " 'The 2nd edition (1787) contained a Refutation of Idealism to distinguish his transcendental idealism from Descartes\\'s Sceptical Idealism and Berkeley\\'s anti-realist strain of Subjective Idealism. The section Paralogisms of Pure Reason is an implicit critique of Descartes\\' idealism. Kant says that it is not possible to infer the \\'I\\' as an object (Descartes\\' cogito ergo sum) purely from \"the spontaneity of thought\". Kant focused on ideas drawn from British philosophers such as Locke, Berkeley and Hume but distinguished his transcendental or critical idealism from previous varieties;',\n",
       " 'In philosophy, idealism is the group of philosophies which assert that reality, or reality as we can know it, is fundamentally mental, mentally constructed, or otherwise immaterial. Epistemologically, idealism manifests as a skepticism about the possibility of knowing any mind-independent thing. In a sociological sense, idealism emphasizes how human ideas—especially beliefs and values—shape society. As an ontological doctrine, idealism goes further, asserting that all entities are composed of mind or spirit. Idealism thus rejects physicalist and dualist theories that fail to ascribe priority to the mind.']"
      ]
     },
     "metadata": {},
     "execution_count": 9
    }
   ],
   "source": [
    "%%time\n",
    "# compare the vectorized query against all paragraphs in the corpus.\n",
    "\n",
    "scores = (tfidf*query.T).toarray()\n",
    "results = (np.flip(np.argsort(scores, axis=0)))\n",
    "[paragraphs[i] for i in results[:3, 0]]"
   ]
  },
  {
   "cell_type": "code",
   "execution_count": 10,
   "metadata": {
    "tags": []
   },
   "outputs": [],
   "source": [
    "# Extract answers from contexts\n",
    "\n",
    "qa_pipe = pipeline('question-answering', model=BERT_MODEL, tokenizer=BERT_MODEL)"
   ]
  },
  {
   "cell_type": "code",
   "execution_count": 11,
   "metadata": {},
   "outputs": [
    {
     "output_type": "stream",
     "name": "stdout",
     "text": [
      "CPU times: user 3.02 ms, sys: 3.54 ms, total: 6.56 ms\nWall time: 24.8 ms\n"
     ]
    }
   ],
   "source": [
    "%%time \n",
    "\n",
    "THRESH = 0.01\n",
    "candicate_idxs = [(i, scores[i]) for i in results[0:10, 0]]\n",
    "contexts = [(paragraphs[i], s) for (i, s) in candicate_idxs if s>THRESH]\n",
    "question_df = pd.DataFrame.from_records([{\n",
    "    'question': question,\n",
    "    'context': ctx\n",
    "} for (ctx, s) in contexts])\n",
    "question_df.to_feather('cache/question_context.feather')"
   ]
  },
  {
   "cell_type": "code",
   "execution_count": 12,
   "metadata": {},
   "outputs": [
    {
     "output_type": "stream",
     "name": "stdout",
     "text": [
      "CPU times: user 12.1 s, sys: 364 ms, total: 12.5 s\nWall time: 3.27 s\n"
     ]
    },
    {
     "output_type": "execute_result",
     "data": {
      "text/plain": [
       "      score  start  end             answer  \\\n",
       "0  0.986910     37   54  Gottfried Leibniz   \n",
       "4  0.889905      0    4               Kant   \n",
       "5  0.879589    200  216   Woodrow Wilson's   \n",
       "1  0.699285    106  117        Descartes's   \n",
       "7  0.696889    342  359  Platonic idealism   \n",
       "\n",
       "                                             context  \n",
       "0  Pluralistic idealism such as that of Gottfried...  \n",
       "4  Kant argued against all three forms of materia...  \n",
       "5  Idealism is a term with several related meanin...  \n",
       "1  The 2nd edition (1787) contained a Refutation ...  \n",
       "7  Any philosophy that assigns crucial importance...  "
      ],
      "text/html": "<div>\n<style scoped>\n    .dataframe tbody tr th:only-of-type {\n        vertical-align: middle;\n    }\n\n    .dataframe tbody tr th {\n        vertical-align: top;\n    }\n\n    .dataframe thead th {\n        text-align: right;\n    }\n</style>\n<table border=\"1\" class=\"dataframe\">\n  <thead>\n    <tr style=\"text-align: right;\">\n      <th></th>\n      <th>score</th>\n      <th>start</th>\n      <th>end</th>\n      <th>answer</th>\n      <th>context</th>\n    </tr>\n  </thead>\n  <tbody>\n    <tr>\n      <td>0</td>\n      <td>0.986910</td>\n      <td>37</td>\n      <td>54</td>\n      <td>Gottfried Leibniz</td>\n      <td>Pluralistic idealism such as that of Gottfried...</td>\n    </tr>\n    <tr>\n      <td>4</td>\n      <td>0.889905</td>\n      <td>0</td>\n      <td>4</td>\n      <td>Kant</td>\n      <td>Kant argued against all three forms of materia...</td>\n    </tr>\n    <tr>\n      <td>5</td>\n      <td>0.879589</td>\n      <td>200</td>\n      <td>216</td>\n      <td>Woodrow Wilson's</td>\n      <td>Idealism is a term with several related meanin...</td>\n    </tr>\n    <tr>\n      <td>1</td>\n      <td>0.699285</td>\n      <td>106</td>\n      <td>117</td>\n      <td>Descartes's</td>\n      <td>The 2nd edition (1787) contained a Refutation ...</td>\n    </tr>\n    <tr>\n      <td>7</td>\n      <td>0.696889</td>\n      <td>342</td>\n      <td>359</td>\n      <td>Platonic idealism</td>\n      <td>Any philosophy that assigns crucial importance...</td>\n    </tr>\n  </tbody>\n</table>\n</div>"
     },
     "metadata": {},
     "execution_count": 12
    }
   ],
   "source": [
    "%%time \n",
    "\n",
    "preds = qa_pipe(question_df.to_dict(orient='records'))\n",
    "answer_df = pd.DataFrame.from_records(preds)\n",
    "answer_df['context'] = question_df['context']\n",
    "answer_df = answer_df.sort_values(by='score', ascending=False)\n",
    "answer_df.head()"
   ]
  },
  {
   "cell_type": "code",
   "execution_count": null,
   "metadata": {},
   "outputs": [],
   "source": []
  }
 ]
}