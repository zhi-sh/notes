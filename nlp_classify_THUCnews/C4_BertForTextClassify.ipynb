{
 "cells": [
  {
   "cell_type": "code",
   "execution_count": 1,
   "metadata": {
    "scrolled": true
   },
   "outputs": [],
   "source": [
    "from pathlib import Path\n",
    "\n",
    "import torch\n",
    "import torch.nn as nn\n",
    "import pytorch_lightning as pl\n",
    "import pytorch_lightning.loggers as pl_loggers\n",
    "from pytorch_lightning.callbacks import ModelCheckpoint\n",
    "from transformers import BertTokenizer, BertModel\n",
    "from sklearn.metrics import accuracy_score\n",
    "from torch.utils.data import DataLoader\n",
    "from datasets import BertDataset"
   ]
  },
  {
   "cell_type": "code",
   "execution_count": 2,
   "metadata": {},
   "outputs": [],
   "source": [
    "class Config(dict):\n",
    "    def __init__(self, **kwargs):\n",
    "        super().__init__(**kwargs)\n",
    "        for k, v in kwargs.items():\n",
    "            setattr(self, k, v)\n",
    "\n",
    "    def set(self, key, val):\n",
    "        self[key] = val\n",
    "        setattr(self, key, val)"
   ]
  },
  {
   "cell_type": "code",
   "execution_count": 3,
   "metadata": {},
   "outputs": [],
   "source": [
    "class BertTextClassify(pl.LightningModule):\n",
    "    def __init__(self, conf):\n",
    "        super().__init__()\n",
    "        self.conf = conf\n",
    "        self.tokenizer = BertTokenizer.from_pretrained(conf.bert_model_pretrained)\n",
    "        self.bert = BertModel.from_pretrained(conf.bert_model_pretrained)\n",
    "        self.dropout = nn.Dropout(self.bert.config.hidden_dropout_prob)\n",
    "        self.classifier = nn.Linear(self.bert.config.hidden_size, conf.num_classes)\n",
    "\n",
    "    def forward(self, input_ids, attention_mask):\n",
    "        outputs = self.bert(input_ids, attention_mask=attention_mask)\n",
    "        pooled_output = outputs[1]\n",
    "        pooled_output = self.dropout(pooled_output)\n",
    "        logits = self.classifier(pooled_output)\n",
    "        return logits\n",
    "\n",
    "    def prepare_data(self):\n",
    "        self.train_set = BertDataset(f\"{self.conf.data_path}/cnews.train.txt\", self.tokenizer)\n",
    "        self.val_set = BertDataset(f\"{self.conf.data_path}/cnews.val.txt\", self.tokenizer)\n",
    "        self.test_set = BertDataset(f\"{self.conf.data_path}/cnews.test.txt\", self.tokenizer)\n",
    "\n",
    "    def train_dataloader(self):\n",
    "        return DataLoader(self.train_set, batch_size=32, shuffle=True)\n",
    "\n",
    "    def val_dataloader(self):\n",
    "        return DataLoader(self.val_set, batch_size=32, shuffle=True)\n",
    "\n",
    "    def test_dataloader(self):\n",
    "        return DataLoader(self.test_set, batch_size=32, shuffle=True)\n",
    "\n",
    "    def _process_one_batch(self, batch, flag='train'):\n",
    "        input_ids, attention_mask, y = batch['input_ids'], batch['attention_mask'], batch['label']\n",
    "        y_hat = self(input_ids, attention_mask)\n",
    "        loss_func = nn.CrossEntropyLoss()\n",
    "        loss = loss_func(y_hat.view(-1, self.conf.num_classes), y.view(-1))\n",
    "        self.log(f'{flag}_loss', loss)\n",
    "\n",
    "        _, y_pred = torch.max(y_hat.view(-1, self.conf.num_classes), dim=-1)\n",
    "        acc = accuracy_score(y_pred.cpu(), y.cpu())\n",
    "        acc = torch.tensor(acc)\n",
    "        self.log(f'{flag}_accuracy', acc)\n",
    "\n",
    "        return loss\n",
    "\n",
    "    def training_step(self, batch, batch_nb):\n",
    "        loss = self._process_one_batch(batch, flag='train')\n",
    "        return loss\n",
    "\n",
    "    def validation_step(self, batch, batch_nb):\n",
    "        return self._process_one_batch(batch, flag='val')\n",
    "\n",
    "    def test_step(self, batch, batch_nb):\n",
    "        return self._process_one_batch(batch, flag='test')\n",
    "\n",
    "    def configure_optimizers(self):\n",
    "        no_decay = ['bias', 'LayerNorm.weight']\n",
    "        optimizer_grouped_parameters = [\n",
    "            {'params': [p for n, p in self.named_parameters() if not any(nd in n for nd in no_decay)], 'weight_decay': 0.0},\n",
    "            {'params': [p for n, p in self.named_parameters() if any(nd in n for nd in no_decay)], 'weight_decay': 0.0}\n",
    "        ]\n",
    "        optimizer = torch.optim.AdamW(optimizer_grouped_parameters, lr=self.conf.lr, eps=self.conf.adam_epsilon)\n",
    "        return optimizer"
   ]
  },
  {
   "cell_type": "code",
   "execution_count": 3,
   "metadata": {},
   "outputs": [],
   "source": [
    "def main(conf):\n",
    "    model = BertTextClassify(conf)\n",
    "    tb_logger = pl_loggers.TensorBoardLogger('logs/')\n",
    "    ckpt = ModelCheckpoint(\n",
    "        filepath=conf.model_name,\n",
    "        verbose=False,\n",
    "        monitor='val_loss',\n",
    "        mode='min'\n",
    "    )\n",
    "    trainer = pl.Trainer(\n",
    "        max_epochs=10,\n",
    "        logger=tb_logger,\n",
    "        checkpoint_callback=ckpt,\n",
    "    )\n",
    "\n",
    "    trainer.fit(model)\n",
    "    trainer.test(ckpt_path=trainer.checkpoint_callback.best_model_path)\n"
   ]
  },
  {
   "cell_type": "code",
   "execution_count": 4,
   "metadata": {},
   "outputs": [],
   "source": [
    "conf = Config(\n",
    "    model_name='bert_text_classify',\n",
    "    bert_model_pretrained=r'/Users/liuzhi/models/torch/bert-base-chinese',\n",
    "    data_path=Path(r'/Users/liuzhi/datasets/cnews'),\n",
    "    num_classes=10,\n",
    "    lr=2e-5,\n",
    "    adam_epsilon=1e-8\n",
    ")"
   ]
  },
  {
   "cell_type": "code",
   "execution_count": 5,
   "metadata": {
    "tags": []
   },
   "outputs": [],
   "source": [
    "# main(conf)"
   ]
  },
  {
   "cell_type": "code",
   "execution_count": null,
   "metadata": {},
   "outputs": [],
   "source": []
  }
 ],
 "metadata": {
  "kernelspec": {
   "display_name": "Python 3",
   "language": "python",
   "name": "python3"
  }
 },
 "nbformat": 4,
 "nbformat_minor": 2
}