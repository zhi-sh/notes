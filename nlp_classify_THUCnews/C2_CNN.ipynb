{
 "cells": [
  {
   "cell_type": "code",
   "execution_count": 2,
   "metadata": {
    "scrolled": true
   },
   "outputs": [],
   "source": [
    "%reload_ext autoreload\n",
    "%autoreload 2\n",
    "%matplotlib inline\n",
    "\n",
    "from pathlib import Path\n",
    "\n",
    "import torch\n",
    "import torch.nn as nn\n",
    "import torch.nn.functional as F\n",
    "import pytorch_lightning as pl\n",
    "import pytorch_lightning.loggers as pl_loggers\n",
    "from pytorch_lightning.callbacks import ModelCheckpoint\n",
    "from sklearn.metrics import accuracy_score\n",
    "from torch.utils.data import DataLoader\n",
    "from datasets import TxtDataset"
   ]
  },
  {
   "cell_type": "code",
   "execution_count": 3,
   "metadata": {},
   "outputs": [],
   "source": [
    "class Config(dict):\n",
    "    def __init__(self, **kwargs):\n",
    "        super().__init__(**kwargs)\n",
    "        for k, v in kwargs.items():\n",
    "            setattr(self, k, v)\n",
    "\n",
    "    def set(self, key, val):\n",
    "        self[key] = val\n",
    "        setattr(self, key, val)"
   ]
  },
  {
   "cell_type": "code",
   "execution_count": 4,
   "metadata": {},
   "outputs": [],
   "source": [
    "class TextCNN(pl.LightningModule):\n",
    "    def __init__(self, conf):\n",
    "        super().__init__()\n",
    "        self.conf = conf\n",
    "        self.embedding = nn.Embedding(conf.vocab_size, conf.embed_size, padding_idx=0)\n",
    "        self.convs = nn.ModuleList([\n",
    "            nn.Conv2d(in_channels=1, out_channels=conf.num_filters, kernel_size=(fs, conf.embed_size)) for fs in conf.filter_sizes\n",
    "        ])\n",
    "        self.fc = nn.Linear(len(conf.filter_sizes) * conf.num_filters, conf.output_dim)\n",
    "        self.dropout = nn.Dropout(conf.dropout)\n",
    "\n",
    "    def forward(self, x):\n",
    "        embedded = self.dropout(self.embedding(x))\n",
    "        embedded = embedded.unsqueeze(1)  # [bs, 1, slen, emb]\n",
    "        conved = [F.relu(conv(embedded)).squeeze(3) for conv in self.convs]  # [bs, num_filter, slen-filter_sizes+1]\n",
    "        pooled = [F.max_pool1d(conv, conv.shape[2]).squeeze(2) for conv in conved]  # [b, num_filter]\n",
    "        cat = self.dropout(torch.cat(pooled, dim=1))  # [bs, num_filter*len(filter_sizes)]\n",
    "        return self.fc(cat)\n",
    "\n",
    "    def prepare_data(self):\n",
    "        self.train_set = TxtDataset(f\"{self.conf.data_path}/cnews.train.txt\", maxlen=512)\n",
    "        self.val_set = TxtDataset(f\"{self.conf.data_path}/cnews.val.txt\", maxlen=512)\n",
    "        self.test_set = TxtDataset(f\"{self.conf.data_path}/cnews.test.txt\", maxlen=512)\n",
    "\n",
    "    def train_dataloader(self):\n",
    "        return DataLoader(self.train_set, batch_size=32, shuffle=True)\n",
    "\n",
    "    def val_dataloader(self):\n",
    "        return DataLoader(self.val_set, batch_size=32, shuffle=True)\n",
    "\n",
    "    def test_dataloader(self):\n",
    "        return DataLoader(self.test_set, batch_size=32, shuffle=True)\n",
    "\n",
    "    def _process_one_batch(self, batch, flag='train'):\n",
    "        x, y = batch\n",
    "        y_hat = self(x)\n",
    "        loss_func = nn.CrossEntropyLoss()\n",
    "        loss = loss_func(y_hat.view(-1, self.conf.num_classes), y.view(-1))\n",
    "        self.log(f'{flag}_loss', loss)\n",
    "\n",
    "        _, y_pred = torch.max(y_hat.view(-1, self.conf.num_classes), dim=-1)\n",
    "        acc = accuracy_score(y_pred.cpu(), y.cpu())\n",
    "        acc = torch.tensor(acc)\n",
    "        self.log(f'{flag}_accuracy', acc)\n",
    "\n",
    "        return loss\n",
    "\n",
    "    def training_step(self, batch, batch_nb):\n",
    "        loss = self._process_one_batch(batch, flag='train')\n",
    "        return loss\n",
    "\n",
    "    def validation_step(self, batch, batch_nb):\n",
    "        return self._process_one_batch(batch, flag='val')\n",
    "\n",
    "    def test_step(self, batch, batch_nb):\n",
    "        return self._process_one_batch(batch, flag='test')\n",
    "\n",
    "    def configure_optimizers(self):\n",
    "        optimizer = torch.optim.Adam(self.parameters(), lr=self.conf.lr)\n",
    "        return optimizer"
   ]
  },
  {
   "cell_type": "code",
   "execution_count": 5,
   "metadata": {},
   "outputs": [],
   "source": [
    "def main(conf):\n",
    "    model = TextCNN(conf)\n",
    "    tb_logger = pl_loggers.TensorBoardLogger('logs/')\n",
    "    ckpt = ModelCheckpoint(\n",
    "        filepath=conf.model_name,\n",
    "        verbose=False,\n",
    "        monitor='val_loss',\n",
    "        mode='min'\n",
    "    )\n",
    "    trainer = pl.Trainer(\n",
    "        max_epochs=10,\n",
    "        logger=tb_logger,\n",
    "        checkpoint_callback=ckpt,\n",
    "    )\n",
    "\n",
    "    trainer.fit(model)\n",
    "    trainer.test(ckpt_path=trainer.checkpoint_callback.best_model_path)"
   ]
  },
  {
   "cell_type": "code",
   "execution_count": 6,
   "metadata": {},
   "outputs": [],
   "source": [
    "conf = Config(\n",
    "    model_name='text_cnn',\n",
    "    data_path=Path(r'C:\\Downloads\\cnews'),\n",
    "    vocab_size=50000,\n",
    "    embed_size=300,\n",
    "    num_filters=100,\n",
    "    filter_sizes=[2, 3, 4],\n",
    "    num_classes=10,\n",
    "    output_dim=10,\n",
    "    lr=3e-3,\n",
    "    dropout=0.2\n",
    ")"
   ]
  },
  {
   "cell_type": "code",
   "execution_count": 7,
   "metadata": {
    "tags": []
   },
   "outputs": [
    {
     "name": "stderr",
     "output_type": "stream",
     "text": [
      "GPU available: False, used: False\n",
      "TPU available: None, using: 0 TPU cores\n",
      "0it [00:00, ?it/s]Building prefix dict from the default dictionary ...\n",
      "Dumping model to file cache C:\\Users\\zhi\\AppData\\Local\\Temp\\jieba.cache\n",
      "Loading model cost 1.850 seconds.\n",
      "Prefix dict has been built successfully.\n",
      "35504it [11:17, 16.01it/s] "
     ]
    },
    {
     "name": "stdout",
     "output_type": "stream",
     "text": [
      "error line : 蚂蚁的连击，这个么，单纯懒得去验证，而且我感觉近战用这个技能才更需要测试。圣堂的贯穿式攻击、tb龙骑变身后的远程溅射，这个，理论上应该是不算在以上四个等级的攻击特效里面的，所以属于完全不受影响的技能。依然那句话，ak不到无法测试……攻击特效之间的相互影响（未测试，仅提出想法）： 不知道有多少人看过以前那个法球效果表，dota正常版里法球绝大部分是无法叠加的，优先级一般是自动施放法球>吸血面具>其他法球，其他法球中的优先级顺序为物品栏中靠前的法球优先，最后获得的法球优先。唯一一个例外是远程英雄的冰眼，以及龙骑三段变身的霜冻攻击，这两个是可以和吸血面具叠加的。除此之外，冰眼还有一个十分强大的功能，就是强化法球。具体内容记不太清楚了，只晓得冰眼和散夜或者雷锤同时带身上，可以提高触发概率。同时冰眼的效果会受到英雄本身近战/远程状态的影响，tb巨魔龙骑这种会变来变去的英雄在某个状态捡起冰眼之后变成另一个状态，冰眼的状态会保持原本的近战或者远程状态。imba版本里虽然法球之间的冲突已经基本全部消失了，可是对于冰眼这么奇妙欢乐的玩意儿，说不准还真的挺有内容的。更多衍生的想法：imba里面的攻击特效已经非常多了，我发现米米亚也开始逐步增加施法特效了。先是火女宙斯，然后卡拉波和60智力法杖，现在蓝胖被解禁，冰甲加入了新的im特效。我建议可以加入更多施法特效的物品，目前只有冰甲和卡拉波，而且效果也不怎么看得出来，永恒长夜法杖又是个基本没人出的货。法系装备略贵，也略少。另一方面，我个人玩imba纯粹为了娱乐，所以也不在乎平衡不平衡的问题，一切归结于脸。所以我觉得imba如果依然是想要往娱乐的方向发展的话，可以将随机性的成分继续放大。幽鬼折射就是个很好的例子，从百分比的硬免伤，变成了几率性的全面伤，人马一个双刃剑弹死自己的现象屡见不鲜。所以人马刚毅不屈和死灵龙守墓人斗篷之类的技能，我觉得也可以往几率性全免伤上面靠。而同时，很多ak技能废物自己就基本成渣的英雄，可以考虑加强一下。比如谜团之流。而那些大招十分强力但是其他技能就完全不够看的英雄也可以考虑改改，典型的例子就是先知。另外召唤师的解禁让我感觉到操作流英雄的归来，虽然我自己不会用，但是我希望召唤师可以是一个高手拯救世界、新手平淡无奇的英雄，并且期待地卜师强势回归。\n"
     ]
    },
    {
     "name": "stderr",
     "output_type": "stream",
     "text": [
      "50001it [15:56, 52.27it/s] \n",
      "5000it [02:21, 35.29it/s] \n",
      "10000it [03:43, 44.79it/s]\n",
      "\n",
      "  | Name      | Type       | Params\n",
      "-----------------------------------------\n",
      "0 | embedding | Embedding  | 15.0 M\n",
      "1 | convs     | ModuleList | 270 K \n",
      "2 | fc        | Linear     | 3.0 K \n",
      "3 | dropout   | Dropout    | 0     \n",
      "-----------------------------------------\n",
      "15.3 M    Trainable params\n",
      "0         Non-trainable params\n",
      "15.3 M    Total params\n",
      "C:\\Users\\zhi\\AppData\\Roaming\\Python\\Python37\\site-packages\\pytorch_lightning\\utilities\\distributed.py:49: UserWarning: Your val_dataloader has `shuffle=True`, it is best practice to turn this off for validation and test dataloaders.\n",
      "  warnings.warn(*args, **kwargs)\n"
     ]
    },
    {
     "data": {
      "application/vnd.jupyter.widget-view+json": {
       "model_id": "",
       "version_major": 2,
       "version_minor": 0
      },
      "text/plain": [
       "HBox(children=(FloatProgress(value=1.0, bar_style='info', description='Validation sanity check', layout=Layout…"
      ]
     },
     "metadata": {},
     "output_type": "display_data"
    },
    {
     "name": "stdout",
     "output_type": "stream",
     "text": [
      "\r"
     ]
    },
    {
     "data": {
      "application/vnd.jupyter.widget-view+json": {
       "model_id": "d079371eb6e64568b4cbd89c9426330e",
       "version_major": 2,
       "version_minor": 0
      },
      "text/plain": [
       "HBox(children=(FloatProgress(value=1.0, bar_style='info', description='Training', layout=Layout(flex='2'), max…"
      ]
     },
     "metadata": {},
     "output_type": "display_data"
    },
    {
     "data": {
      "application/vnd.jupyter.widget-view+json": {
       "model_id": "",
       "version_major": 2,
       "version_minor": 0
      },
      "text/plain": [
       "HBox(children=(FloatProgress(value=1.0, bar_style='info', description='Validating', layout=Layout(flex='2'), m…"
      ]
     },
     "metadata": {},
     "output_type": "display_data"
    },
    {
     "data": {
      "application/vnd.jupyter.widget-view+json": {
       "model_id": "",
       "version_major": 2,
       "version_minor": 0
      },
      "text/plain": [
       "HBox(children=(FloatProgress(value=1.0, bar_style='info', description='Validating', layout=Layout(flex='2'), m…"
      ]
     },
     "metadata": {},
     "output_type": "display_data"
    },
    {
     "data": {
      "application/vnd.jupyter.widget-view+json": {
       "model_id": "",
       "version_major": 2,
       "version_minor": 0
      },
      "text/plain": [
       "HBox(children=(FloatProgress(value=1.0, bar_style='info', description='Validating', layout=Layout(flex='2'), m…"
      ]
     },
     "metadata": {},
     "output_type": "display_data"
    },
    {
     "data": {
      "application/vnd.jupyter.widget-view+json": {
       "model_id": "",
       "version_major": 2,
       "version_minor": 0
      },
      "text/plain": [
       "HBox(children=(FloatProgress(value=1.0, bar_style='info', description='Validating', layout=Layout(flex='2'), m…"
      ]
     },
     "metadata": {},
     "output_type": "display_data"
    },
    {
     "data": {
      "application/vnd.jupyter.widget-view+json": {
       "model_id": "",
       "version_major": 2,
       "version_minor": 0
      },
      "text/plain": [
       "HBox(children=(FloatProgress(value=1.0, bar_style='info', description='Validating', layout=Layout(flex='2'), m…"
      ]
     },
     "metadata": {},
     "output_type": "display_data"
    },
    {
     "data": {
      "application/vnd.jupyter.widget-view+json": {
       "model_id": "",
       "version_major": 2,
       "version_minor": 0
      },
      "text/plain": [
       "HBox(children=(FloatProgress(value=1.0, bar_style='info', description='Validating', layout=Layout(flex='2'), m…"
      ]
     },
     "metadata": {},
     "output_type": "display_data"
    },
    {
     "data": {
      "application/vnd.jupyter.widget-view+json": {
       "model_id": "",
       "version_major": 2,
       "version_minor": 0
      },
      "text/plain": [
       "HBox(children=(FloatProgress(value=1.0, bar_style='info', description='Validating', layout=Layout(flex='2'), m…"
      ]
     },
     "metadata": {},
     "output_type": "display_data"
    },
    {
     "data": {
      "application/vnd.jupyter.widget-view+json": {
       "model_id": "",
       "version_major": 2,
       "version_minor": 0
      },
      "text/plain": [
       "HBox(children=(FloatProgress(value=1.0, bar_style='info', description='Validating', layout=Layout(flex='2'), m…"
      ]
     },
     "metadata": {},
     "output_type": "display_data"
    },
    {
     "data": {
      "application/vnd.jupyter.widget-view+json": {
       "model_id": "",
       "version_major": 2,
       "version_minor": 0
      },
      "text/plain": [
       "HBox(children=(FloatProgress(value=1.0, bar_style='info', description='Validating', layout=Layout(flex='2'), m…"
      ]
     },
     "metadata": {},
     "output_type": "display_data"
    },
    {
     "data": {
      "application/vnd.jupyter.widget-view+json": {
       "model_id": "",
       "version_major": 2,
       "version_minor": 0
      },
      "text/plain": [
       "HBox(children=(FloatProgress(value=1.0, bar_style='info', description='Validating', layout=Layout(flex='2'), m…"
      ]
     },
     "metadata": {},
     "output_type": "display_data"
    },
    {
     "name": "stdout",
     "output_type": "stream",
     "text": [
      "\n"
     ]
    },
    {
     "name": "stderr",
     "output_type": "stream",
     "text": [
      "35508it [07:30, 78.04it/s] "
     ]
    },
    {
     "name": "stdout",
     "output_type": "stream",
     "text": [
      "error line : 蚂蚁的连击，这个么，单纯懒得去验证，而且我感觉近战用这个技能才更需要测试。圣堂的贯穿式攻击、tb龙骑变身后的远程溅射，这个，理论上应该是不算在以上四个等级的攻击特效里面的，所以属于完全不受影响的技能。依然那句话，ak不到无法测试……攻击特效之间的相互影响（未测试，仅提出想法）： 不知道有多少人看过以前那个法球效果表，dota正常版里法球绝大部分是无法叠加的，优先级一般是自动施放法球>吸血面具>其他法球，其他法球中的优先级顺序为物品栏中靠前的法球优先，最后获得的法球优先。唯一一个例外是远程英雄的冰眼，以及龙骑三段变身的霜冻攻击，这两个是可以和吸血面具叠加的。除此之外，冰眼还有一个十分强大的功能，就是强化法球。具体内容记不太清楚了，只晓得冰眼和散夜或者雷锤同时带身上，可以提高触发概率。同时冰眼的效果会受到英雄本身近战/远程状态的影响，tb巨魔龙骑这种会变来变去的英雄在某个状态捡起冰眼之后变成另一个状态，冰眼的状态会保持原本的近战或者远程状态。imba版本里虽然法球之间的冲突已经基本全部消失了，可是对于冰眼这么奇妙欢乐的玩意儿，说不准还真的挺有内容的。更多衍生的想法：imba里面的攻击特效已经非常多了，我发现米米亚也开始逐步增加施法特效了。先是火女宙斯，然后卡拉波和60智力法杖，现在蓝胖被解禁，冰甲加入了新的im特效。我建议可以加入更多施法特效的物品，目前只有冰甲和卡拉波，而且效果也不怎么看得出来，永恒长夜法杖又是个基本没人出的货。法系装备略贵，也略少。另一方面，我个人玩imba纯粹为了娱乐，所以也不在乎平衡不平衡的问题，一切归结于脸。所以我觉得imba如果依然是想要往娱乐的方向发展的话，可以将随机性的成分继续放大。幽鬼折射就是个很好的例子，从百分比的硬免伤，变成了几率性的全面伤，人马一个双刃剑弹死自己的现象屡见不鲜。所以人马刚毅不屈和死灵龙守墓人斗篷之类的技能，我觉得也可以往几率性全免伤上面靠。而同时，很多ak技能废物自己就基本成渣的英雄，可以考虑加强一下。比如谜团之流。而那些大招十分强力但是其他技能就完全不够看的英雄也可以考虑改改，典型的例子就是先知。另外召唤师的解禁让我感觉到操作流英雄的归来，虽然我自己不会用，但是我希望召唤师可以是一个高手拯救世界、新手平淡无奇的英雄，并且期待地卜师强势回归。\n"
     ]
    },
    {
     "name": "stderr",
     "output_type": "stream",
     "text": [
      "50001it [10:44, 77.53it/s] \n",
      "5000it [01:02, 79.95it/s] \n",
      "10000it [02:23, 69.50it/s]\n",
      "C:\\Users\\zhi\\AppData\\Roaming\\Python\\Python37\\site-packages\\pytorch_lightning\\utilities\\distributed.py:49: UserWarning: Your test_dataloader has `shuffle=True`, it is best practice to turn this off for validation and test dataloaders.\n",
      "  warnings.warn(*args, **kwargs)\n"
     ]
    },
    {
     "data": {
      "application/vnd.jupyter.widget-view+json": {
       "model_id": "1fbed8442bdf405bb52529daa1349435",
       "version_major": 2,
       "version_minor": 0
      },
      "text/plain": [
       "HBox(children=(FloatProgress(value=1.0, bar_style='info', description='Testing', layout=Layout(flex='2'), max=…"
      ]
     },
     "metadata": {},
     "output_type": "display_data"
    },
    {
     "name": "stdout",
     "output_type": "stream",
     "text": [
      "\n",
      "--------------------------------------------------------------------------------\n",
      "DATALOADER:0 TEST RESULTS\n",
      "{'test_accuracy': tensor(0.9407),\n",
      " 'test_loss': tensor(0.6067),\n",
      " 'val_accuracy': tensor(0.9384),\n",
      " 'val_loss': tensor(4.1941)}\n",
      "--------------------------------------------------------------------------------\n"
     ]
    }
   ],
   "source": [
    "main(conf)"
   ]
  },
  {
   "cell_type": "code",
   "execution_count": null,
   "metadata": {},
   "outputs": [],
   "source": []
  }
 ],
 "metadata": {
  "kernelspec": {
   "display_name": "Python 3",
   "language": "python",
   "name": "python3"
  },
  "language_info": {
   "codemirror_mode": {
    "name": "ipython",
    "version": 3
   },
   "file_extension": ".py",
   "mimetype": "text/x-python",
   "name": "python",
   "nbconvert_exporter": "python",
   "pygments_lexer": "ipython3",
   "version": "3.7.6"
  }
 },
 "nbformat": 4,
 "nbformat_minor": 2
}
